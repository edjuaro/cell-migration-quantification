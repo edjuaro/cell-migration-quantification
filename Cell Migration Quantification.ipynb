{
 "cells": [
  {
   "cell_type": "markdown",
   "metadata": {},
   "source": [
    "# Cell Migration Quantification"
   ]
  },
  {
   "cell_type": "markdown",
   "metadata": {},
   "source": [
    "<div class=\"alert alert-info\">\n",
    "<h3 style=\"margin-top: 0;\"> Instructions <i class=\"fa fa-info-circle\"></i></h3>\n",
    "Run each cell. More useful instructions will be added later.\n",
    "</div>"
   ]
  },
  {
   "cell_type": "code",
   "execution_count": 5,
   "metadata": {
    "genepattern": {
     "name": "Login",
     "server": "https://cloud.genepattern.org/gp",
     "type": "auth"
    }
   },
   "outputs": [
    {
     "data": {
      "application/vnd.jupyter.widget-view+json": {
       "model_id": "5479f9fb4a19444bb48b264f594eb0fa",
       "version_major": 2,
       "version_minor": 0
      },
      "text/plain": [
       "GPAuthWidget()"
      ]
     },
     "metadata": {},
     "output_type": "display_data"
    }
   ],
   "source": [
    "# Requires GenePattern Notebook: pip install genepattern-notebook\n",
    "import gp\n",
    "import genepattern\n",
    "\n",
    "# Username and password removed for security reasons.\n",
    "genepattern.display(genepattern.session.register(\"https://cloud.genepattern.org/gp\", \"\", \"\"))"
   ]
  },
  {
   "cell_type": "markdown",
   "metadata": {
    "heading_collapsed": true
   },
   "source": [
    "# Requirements"
   ]
  },
  {
   "cell_type": "markdown",
   "metadata": {
    "heading_collapsed": true,
    "hidden": true
   },
   "source": [
    "## For developers"
   ]
  },
  {
   "cell_type": "markdown",
   "metadata": {
    "hidden": true
   },
   "source": [
    "<div class=\"alert alert-warning\">\n",
    "<h3 style=\"margin-top: 0;\"> Warning <i class=\"fa fa-exclamation-triangle\"></i></h3>\n",
    "LMFIT has been removed --> No need to install it anymore!\n",
    "</div>"
   ]
  },
  {
   "cell_type": "markdown",
   "metadata": {
    "hidden": true
   },
   "source": [
    "```\n",
    "Python 3.6 Kernel, but no reason why this won't work on 3.7 if these libraries are present\n",
    "Collecting lmfit==0.9.12\n",
    "Collecting uncertainties>=3.0 (from lmfit==0.9.12)\n",
    "Collecting scipy>=0.17 (from lmfit==0.9.12)\n",
    "  Downloading https://files.pythonhosted.org/packages/7f/5f/c48860704092933bf1c4c1574a8de1ffd16bf4fde8bab190d747598844b2/scipy-1.2.1-cp36-cp36m-manylinux1_x86_64.whl (24.8MB)\n",
    "    100% |████████████████████████████████| 24.8MB 236kB/s eta 0:00:01    68% |██████████████████████          | 17.0MB 41.9MB/s eta 0:00:01\n",
    "Collecting six>1.10 (from lmfit==0.9.12)\n",
    "  Downloading https://files.pythonhosted.org/packages/73/fb/00a976f728d0d1fecfe898238ce23f502a721c0ac0ecfedb80e0d88c64e9/six-1.12.0-py2.py3-none-any.whl\n",
    "Collecting asteval>=0.9.12 (from lmfit==0.9.12)\n",
    "Collecting numpy>=1.10 (from lmfit==0.9.12)\n",
    "  Downloading https://files.pythonhosted.org/packages/35/d5/4f8410ac303e690144f0a0603c4b8fd3b986feb2749c435f7cdbb288f17e/numpy-1.16.2-cp36-cp36m-manylinux1_x86_64.whl (17.3MB)\n",
    "    100% |████████████████████████████████| 17.3MB 247kB/s eta 0:00:01\n",
    "Installing collected packages: uncertainties, numpy, scipy, six, asteval, lmfit\n",
    "  Found existing installation: numpy 1.14.0\n",
    "    Uninstalling numpy-1.14.0:\n",
    "      Successfully uninstalled numpy-1.14.0\n",
    "  The scripts f2py, f2py3 and f2py3.6 are installed in '/home/jovyan/.local/bin' which is not on PATH.\n",
    "  Consider adding this directory to PATH or, if you prefer to suppress this warning, use --no-warn-script-location.\n",
    "  Found existing installation: scipy 1.0.0\n",
    "    Uninstalling scipy-1.0.0:\n",
    "      Successfully uninstalled scipy-1.0.0\n",
    "  Found existing installation: lmfit 0.9.12\n",
    "    Uninstalling lmfit-0.9.12:\n",
    "      Successfully uninstalled lmfit-0.9.12\n",
    "Successfully installed asteval-0.9.13 lmfit-0.9.12 numpy-1.16.2 scipy-1.2.1 six-1.12.0 uncertainties-3.0.3\n",
    "also:\n",
    "\n",
    "opencv-python                     4.0.0.21\n",
    "seaborn == 0.9.0\n",
    "```"
   ]
  },
  {
   "cell_type": "markdown",
   "metadata": {
    "heading_collapsed": true,
    "hidden": true
   },
   "source": [
    "## Define some functions and import some others"
   ]
  },
  {
   "cell_type": "code",
   "execution_count": 41,
   "metadata": {
    "hidden": true
   },
   "outputs": [],
   "source": [
    "%matplotlib inline\n",
    "# from lmfit import Minimizer, Parameters, report_fit\n",
    "import cv2\n",
    "import numpy as np\n",
    "from skimage import draw\n",
    "from skimage import io\n",
    "import matplotlib.pyplot as plt\n",
    "from scipy import optimize\n",
    "import humanfriendly\n",
    "from timeit import default_timer as timer\n",
    "import os\n",
    "import pandas as pd\n",
    "import seaborn as sns\n",
    "from cuzcatlan import add_stat_annotation"
   ]
  },
  {
   "cell_type": "code",
   "execution_count": 16,
   "metadata": {
    "hidden": true
   },
   "outputs": [],
   "source": [
    "def cost(params):\n",
    "    global im2\n",
    "    maxy, maxx = im2.shape\n",
    "    maxr = min(maxx,maxy)/2\n",
    "    area = maxy*maxx\n",
    "    \n",
    "    x0= params[0]\n",
    "    y0 = params[1]\n",
    "    r0 = params[2]\n",
    "    \n",
    "    coords = draw.circle(y0, x0, r0, shape=im2.shape)\n",
    "    template = np.zeros_like(im2) #set all values to be zero\n",
    "    template[coords] = 1\n",
    "    \n",
    "    mask_size = np.sum(template)\n",
    "    cell_pixels_covered_by_mask = np.sum(template&im2)\n",
    "    penalty_harshness = 10\n",
    "    \n",
    "    score = mask_size - penalty_harshness*cell_pixels_covered_by_mask\n",
    "    score = score/area\n",
    "        \n",
    "    return -score"
   ]
  },
  {
   "cell_type": "markdown",
   "metadata": {},
   "source": [
    "# Analyses"
   ]
  },
  {
   "cell_type": "markdown",
   "metadata": {},
   "source": [
    "## Find cells on control"
   ]
  },
  {
   "cell_type": "code",
   "execution_count": 6,
   "metadata": {
    "nbtools": {
     "description": "",
     "name": "create_mask",
     "param_values": {
      "control": "analyses/MDA231_stopper_1_c3.tif",
      "kernel_size": "2",
      "output_var": "setup",
      "setup": "setup"
     },
     "show_code": false,
     "type": "uibuilder"
    }
   },
   "outputs": [
    {
     "data": {
      "application/vnd.jupyter.widget-view+json": {
       "model_id": "75675e76fba248e4ae0dafc4d868bd12",
       "version_major": 2,
       "version_minor": 0
      },
      "text/plain": [
       "UIBuilder(function_import='create_mask', name='create_mask', params=[{'name': 'control', 'label': 'control', '…"
      ]
     },
     "metadata": {},
     "output_type": "display_data"
    }
   ],
   "source": [
    "setup = {}\n",
    "@genepattern.build_ui\n",
    "def create_mask(control='analyses/MDA231_stopper_1_c3.tif',kernel_size=2,setup='setup'):\n",
    "    beginning_of_time = timer()\n",
    "    # Read image\n",
    "    im_in = cv2.imread(control, cv2.IMREAD_GRAYSCALE)\n",
    "\n",
    "    # Threshold. ==> These could be parameters\n",
    "    # Set values equal to or above 20 to 0.\n",
    "    # Set values below 20 to 255.\n",
    "    th, im_th = cv2.threshold(im_in, 20, 255, cv2.THRESH_BINARY_INV)\n",
    "\n",
    "    # Copy the thresholded image.\n",
    "    im_floodfill = im_th.copy()\n",
    "\n",
    "    # Mask used to flood filling.\n",
    "    # Notice the size needs to be 2 pixels than the image.\n",
    "    h, w = im_th.shape[:2]\n",
    "    mask = np.zeros((h+2, w+2), np.uint8)\n",
    "\n",
    "    # Floodfill from point (0, 0)\n",
    "    cv2.floodFill(im_floodfill, mask, (0,0), 255);\n",
    "\n",
    "    # Invert floodfilled image\n",
    "    im_floodfill_inv = cv2.bitwise_not(im_floodfill)\n",
    "\n",
    "    # Combine the two images to get the foreground.\n",
    "    im_out = im_th | im_floodfill_inv\n",
    "    io.imsave(fname='temp_output.png', arr=im_out)\n",
    "\n",
    "    # im_out_inv = cv2.bitwise_not(im_out)\n",
    "\n",
    "\n",
    "    # dilate the mask:\n",
    "    k_size = kernel_size\n",
    "    k_half = k_size/2\n",
    "    kernel = np.ones((k_size,k_size),np.uint8)\n",
    "    coords = draw.circle(k_half, k_half, k_half, shape=im_th.shape)\n",
    "    kernel[coords] = 1 \n",
    "    erosion = cv2.erode(im_out,kernel,iterations = 1)\n",
    "    dilation = cv2.dilate(cv2.bitwise_not(erosion),kernel,iterations = 1)\n",
    "    # cells_mask = cv2.bitwise_not(dilation)\n",
    "    cells_mask = dilation/255\n",
    "    \n",
    "    setup['control_grayscale'] = im_in\n",
    "    setup['mask'] = cells_mask\n",
    "\n",
    "\n",
    "    io.imshow(cells_mask)\n",
    "    plt.show()\n",
    "    \n",
    "    print(\"Note that a value of ~1 means that pixel belongs to the mask and it is rendered as white.\")\n",
    "    print(\"A value of 0 means it deos not belong the mask and it is rendered as black.\")\n",
    "    end_of_time = timer()\n",
    "    spanned = end_of_time - beginning_of_time\n",
    "    print(f\"\\nDone with this part of the workflow. Elapsed time: {humanfriendly.format_timespan(spanned)}.\")\n",
    "    return setup\n",
    "    "
   ]
  },
  {
   "cell_type": "markdown",
   "metadata": {},
   "source": [
    "##  Find migration region"
   ]
  },
  {
   "cell_type": "code",
   "execution_count": 7,
   "metadata": {
    "nbtools": {
     "description": "",
     "name": "find_migration_region",
     "param_values": {
      "finesse": "6",
      "output_var": "setup",
      "setup": "setup"
     },
     "show_code": false,
     "type": "uibuilder"
    }
   },
   "outputs": [
    {
     "data": {
      "application/vnd.jupyter.widget-view+json": {
       "model_id": "1ec2793868c2434cb195f6ab2e1c4c45",
       "version_major": 2,
       "version_minor": 0
      },
      "text/plain": [
       "UIBuilder(function_import='find_migration_region', name='find_migration_region', params=[{'name': 'setup', 'la…"
      ]
     },
     "metadata": {},
     "output_type": "display_data"
    }
   ],
   "source": [
    "@genepattern.build_ui\n",
    "def find_migration_region(setup='setup',finesse=20):\n",
    "    beginning_of_time = timer()\n",
    "    \n",
    "    global im2\n",
    "    im2 = setup['control_grayscale']>0.2\n",
    "    im2 = im2.astype(int)\n",
    "    \n",
    "    maxy, maxx = im2.shape\n",
    "    minx, miny = (0,0)\n",
    "    maxr = min(maxx,maxy)/2\n",
    "\n",
    "    x0 = im2.shape[1]/2\n",
    "    y0 = im2.shape[0]/2\n",
    "    r0 = min(im2.shape[1],im2.shape[0])/4\n",
    "    \n",
    "    xmid = im2.shape[1]/2\n",
    "    ymid = im2.shape[0]/2\n",
    "    rmid = min(xmid,ymid)\n",
    "\n",
    "    coarse = finesse*1/3\n",
    "\n",
    "    # do fit, here with leastsq model\n",
    "    # minner = Minimizer(cost_obj, params)\n",
    "    x_slice = slice(xmid-x0/4, xmid+x0/4, (x0/2)/coarse)\n",
    "    y_slice = slice(ymid-x0/4, ymid+x0/4, (y0/2)/coarse)\n",
    "    r_slice = slice(rmid-x0/4, rmid+x0/4, (r0/2)/finesse)\n",
    "    rranges = (x_slice,y_slice, r_slice)\n",
    "    print('About to perform optimization. This would take a few seconds to a few minutes.')\n",
    "\n",
    "    resbrute = optimize.brute(cost, rranges,full_output=True)\n",
    "\n",
    "    # result = minner.minimize(method='brute',ranges=rranges)\n",
    "    # report_fit(result)\n",
    "    print('############')\n",
    "    method = 'scipy.brute'\n",
    "    opt_params = resbrute[0]\n",
    "    x_opt = opt_params[0]\n",
    "    y_opt = opt_params[1]\n",
    "    r_opt = opt_params[2]\n",
    "    print(\"Optimal paramters are\", [x_opt,y_opt,r_opt])\n",
    "    f, ax = plt.subplots()\n",
    "    circle = plt.Circle((x_opt, y_opt), r_opt, alpha = 0.5)\n",
    "    ax.imshow(im2, cmap='gray', interpolation='nearest')\n",
    "    ax.add_artist(circle)\n",
    "    print('############')\n",
    "    print(f'Method \"{method}\"\"\\tobjective={cost([x_opt,y_opt,r_opt])}')\n",
    "    print('############')\n",
    "    plt.show()\n",
    "    \n",
    "    coords = draw.circle(y0, x0, r0, shape=im2.shape)\n",
    "    template = np.zeros_like(im2) #set all values to be zero\n",
    "    template[coords] = 1\n",
    "    \n",
    "    setup['im2'] = im2\n",
    "    setup['opt_params'] = opt_params\n",
    "    setup['x_opt'] = x_opt\n",
    "    setup['y_opt'] = y_opt\n",
    "    setup['r_opt'] = r_opt\n",
    "    setup['circle'] = circle\n",
    "    setup['coords'] = coords\n",
    "    setup['template'] = template\n",
    "    \n",
    "    end_of_time = timer()\n",
    "    spanned = end_of_time - beginning_of_time\n",
    "    print(f\"\\nDone with this part of the workflow. Elapsed time: {humanfriendly.format_timespan(spanned)}.\")\n",
    "    \n",
    "    return setup"
   ]
  },
  {
   "cell_type": "markdown",
   "metadata": {},
   "source": [
    "## Quantify migration (load images & make final plot)"
   ]
  },
  {
   "cell_type": "code",
   "execution_count": 8,
   "metadata": {
    "nbtools": {
     "description": "",
     "name": "load_images",
     "param_values": {
      "folder": "images",
      "list_of_groups": "stopper, untreated, AGR2ab, Taxol, IgG",
      "output_var": "",
      "setup": "setup",
      "verbose": "false"
     },
     "show_code": false,
     "type": "uibuilder"
    }
   },
   "outputs": [
    {
     "data": {
      "application/vnd.jupyter.widget-view+json": {
       "model_id": "2cd9645ce6a946e7a8f2db2751916c6e",
       "version_major": 2,
       "version_minor": 0
      },
      "text/plain": [
       "UIBuilder(function_import='load_images', name='load_images', params=[{'name': 'list_of_groups', 'label': 'list…"
      ]
     },
     "metadata": {},
     "output_type": "display_data"
    }
   ],
   "source": [
    "@genepattern.build_ui\n",
    "def load_images(list_of_groups,folder='images',setup=setup,verbose=False):\n",
    "    all_files = sorted(os.listdir(folder))\n",
    "    \n",
    "    filename = []\n",
    "    condition = []\n",
    "    percent_covered = []\n",
    "    \n",
    "    if isinstance(list_of_groups, str):\n",
    "        list_of_groups = list_of_groups.split(', ')\n",
    "    \n",
    "    for category in list_of_groups:\n",
    "        curr_files = [i for i in all_files if category in i]\n",
    "        if verbose:\n",
    "            print(category,curr_files)\n",
    "        for image in curr_files:\n",
    "            if verbose:\n",
    "                print(f\"\\tWorking with {image}\")\n",
    "            current_filename = os.path.join(folder,image)\n",
    "            im = io.imread(current_filename,as_gray=True)\n",
    "            im01 = im>0\n",
    "            im01 = im01.astype(int)\n",
    "            if False:\n",
    "                f, ax = plt.subplots()\n",
    "                ax.imshow(im01, cmap='gray')\n",
    "                circle = plt.Circle((setup['x_opt'], setup['y_opt']), setup['r_opt'], alpha = 0.5)\n",
    "                ax.add_artist(circle)\n",
    "                plt.show()\n",
    "            \n",
    "            # create the mask on top of this image\n",
    "            coords = draw.circle(setup['y_opt'], setup['x_opt'], setup['r_opt'], shape=im01.shape)\n",
    "            template = np.zeros_like(im01) #set all values to be zero\n",
    "            template[coords] = 1\n",
    "            cell_pixels_covered_by_mask = np.sum(template&im01)\n",
    "#             print(100*cell_pixels_covered_by_mask/np.sum(template))\n",
    "            filename.append(image)\n",
    "            condition.append(category)\n",
    "            percent_covered.append(100*cell_pixels_covered_by_mask/np.sum(template))\n",
    "            \n",
    "    df = pd.DataFrame({\"condition\": condition, \"percent_covered\": percent_covered, \"filename\" : filename})\n",
    "\n",
    "\n",
    "    f, ax = plt.subplots(figsize=(16,9))\n",
    "    ax=sns.barplot(x=\"condition\", y=\"percent_covered\", data=df, dodge=1, ax=ax, ci=None)\n",
    "    ax=sns.stripplot(x=\"condition\", y=\"percent_covered\", data=df, ax=ax, linewidth=2, edgecolor='gray')\n",
    "    add_stat_annotation(ax, data=df, x='condition', y='percent_covered',\n",
    "                        boxPairList=[(\"untreated\", \"AGR2ab\"),(\"untreated\", \"Taxol\"),(\"untreated\", \"IgG\")],\n",
    "                        test='Mann-Whitney', textFormat='star', loc='inside', verbose=2)\n",
    "    return "
   ]
  },
  {
   "cell_type": "code",
   "execution_count": null,
   "metadata": {},
   "outputs": [],
   "source": []
  }
 ],
 "metadata": {
  "kernelspec": {
   "display_name": "Python 3.6",
   "language": "python",
   "name": "python3.6"
  },
  "language_info": {
   "codemirror_mode": {
    "name": "ipython",
    "version": 3
   },
   "file_extension": ".py",
   "mimetype": "text/x-python",
   "name": "python",
   "nbconvert_exporter": "python",
   "pygments_lexer": "ipython3",
   "version": "3.6.7"
  }
 },
 "nbformat": 4,
 "nbformat_minor": 2
}
