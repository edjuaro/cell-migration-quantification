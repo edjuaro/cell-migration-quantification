{
 "cells": [
  {
   "cell_type": "markdown",
   "metadata": {},
   "source": [
    "Requirements:\n",
    "```\n",
    "Collecting lmfit==0.9.12\n",
    "Collecting uncertainties>=3.0 (from lmfit==0.9.12)\n",
    "Collecting scipy>=0.17 (from lmfit==0.9.12)\n",
    "  Downloading https://files.pythonhosted.org/packages/7f/5f/c48860704092933bf1c4c1574a8de1ffd16bf4fde8bab190d747598844b2/scipy-1.2.1-cp36-cp36m-manylinux1_x86_64.whl (24.8MB)\n",
    "    100% |████████████████████████████████| 24.8MB 236kB/s eta 0:00:01    68% |██████████████████████          | 17.0MB 41.9MB/s eta 0:00:01\n",
    "Collecting six>1.10 (from lmfit==0.9.12)\n",
    "  Downloading https://files.pythonhosted.org/packages/73/fb/00a976f728d0d1fecfe898238ce23f502a721c0ac0ecfedb80e0d88c64e9/six-1.12.0-py2.py3-none-any.whl\n",
    "Collecting asteval>=0.9.12 (from lmfit==0.9.12)\n",
    "Collecting numpy>=1.10 (from lmfit==0.9.12)\n",
    "  Downloading https://files.pythonhosted.org/packages/35/d5/4f8410ac303e690144f0a0603c4b8fd3b986feb2749c435f7cdbb288f17e/numpy-1.16.2-cp36-cp36m-manylinux1_x86_64.whl (17.3MB)\n",
    "    100% |████████████████████████████████| 17.3MB 247kB/s eta 0:00:01\n",
    "Installing collected packages: uncertainties, numpy, scipy, six, asteval, lmfit\n",
    "  Found existing installation: numpy 1.14.0\n",
    "    Uninstalling numpy-1.14.0:\n",
    "      Successfully uninstalled numpy-1.14.0\n",
    "  The scripts f2py, f2py3 and f2py3.6 are installed in '/home/jovyan/.local/bin' which is not on PATH.\n",
    "  Consider adding this directory to PATH or, if you prefer to suppress this warning, use --no-warn-script-location.\n",
    "  Found existing installation: scipy 1.0.0\n",
    "    Uninstalling scipy-1.0.0:\n",
    "      Successfully uninstalled scipy-1.0.0\n",
    "  Found existing installation: lmfit 0.9.12\n",
    "    Uninstalling lmfit-0.9.12:\n",
    "      Successfully uninstalled lmfit-0.9.12\n",
    "Successfully installed asteval-0.9.13 lmfit-0.9.12 numpy-1.16.2 scipy-1.2.1 six-1.12.0 uncertainties-3.0.3\n",
    "```\n",
    "also:\n",
    "```\n",
    "opencv-python                     4.0.0.21  \n",
    "```"
   ]
  },
  {
   "cell_type": "code",
   "execution_count": null,
   "metadata": {
    "scrolled": true
   },
   "outputs": [],
   "source": [
    "from lmfit import Minimizer, Parameters, report_fit"
   ]
  },
  {
   "cell_type": "code",
   "execution_count": null,
   "metadata": {
    "genepattern": {
     "name": "Login",
     "server": "https://cloud.genepattern.org/gp",
     "type": "auth"
    },
    "scrolled": true
   },
   "outputs": [],
   "source": [
    "# Requires GenePattern Notebook: pip install genepattern-notebook\n",
    "import gp\n",
    "import genepattern\n",
    "\n",
    "# Username and password removed for security reasons.\n",
    "genepattern.display(genepattern.session.register(\"https://cloud.genepattern.org/gp\", \"\", \"\"))"
   ]
  },
  {
   "cell_type": "markdown",
   "metadata": {
    "heading_collapsed": true
   },
   "source": [
    "## GCA"
   ]
  },
  {
   "cell_type": "code",
   "execution_count": null,
   "metadata": {
    "hidden": true
   },
   "outputs": [],
   "source": [
    "from operator import itemgetter\n",
    "import numpy as np\n",
    "\n",
    "def enforce_bounds(params, LowerBound, UpperBound):\n",
    "    new_params = []\n",
    "    for i in np.arange(len(params)):\n",
    "        currene_param = params[i]\n",
    "        lb = LowerBound[i]\n",
    "        ub = UpperBound[i]\n",
    "        if currene_param<lb:\n",
    "            currene_param = lb\n",
    "        elif currene_param>ub:\n",
    "            currene_param = ub\n",
    "        new_params.append(currene_param)\n",
    "    return new_params\n",
    "\n",
    "def RandomParameters(PopulationSize,OrigialParameters,scale,LowerBound,UpperBound):\n",
    "    #PopulationSize is the number of randomized sets of parameters this function generates.\n",
    "    #OriginalParemeters will be a first educated guess and the rest of the\n",
    "    #parameters will be generated around it.\n",
    "    #scale is the relative value of the change, scale = 1 means  new parameters\n",
    "    #will be roughly the same order of magnitude; scale = 0.1 means the new\n",
    "    #parameters will be roughly 1/10th of the original ones.\n",
    "    to_return = []\n",
    "    i = 0\n",
    "    while i<PopulationSize:\n",
    "        temp = [(param+np.finfo(float).eps)*(1+scale*(2*np.random.uniform()-1)) for param in OrigialParameters]\n",
    "        temp = enforce_bounds(temp, LowerBound, UpperBound)\n",
    "        to_return.append(temp)\n",
    "        \n",
    "        i+=1\n",
    "    return to_return\n",
    "\n",
    "def GenerationFitness(FitFun,Generation):\n",
    "    Gi_fit = []\n",
    "    for i in np.arange(len(Generation)):\n",
    "        Gi_fit.append(FitFun(Generation[i]))\n",
    "        if np.isnan(Gi_fit[i]):\n",
    "            Gi_fit[i] = numpy.NINF\n",
    "    return Gi_fit\n",
    "\n",
    "def crossover(Gi_mate_1,Gi_mate_2,CrossPoint):\n",
    "    Offspring = []\n",
    "    for parent1, parent2 in zip(Gi_mate_1,Gi_mate_2):\n",
    "        parent1 = list(parent1)\n",
    "        parent2 = list(parent2)\n",
    "        off_1 = parent1[0:CrossPoint]+parent2[CrossPoint:]\n",
    "        off_2 = parent2[0:CrossPoint]+parent1[CrossPoint:]\n",
    "        Offspring.append(off_1)\n",
    "        Offspring.append(off_2)\n",
    "    return Offspring\n",
    "\n",
    "def mutate(Offsprings,MutRate,MutMagnitude,Mutation_dampering,lb,ub):\n",
    "    new_offsprings = []\n",
    "    decaying_rate = 0.9\n",
    "    \n",
    "    # for each each offspring, chek if there will be a mutation on each gene\n",
    "    for offspring in Offsprings:\n",
    "        new_off = []\n",
    "        for gene in offspring:\n",
    "            if np.random.binomial(n=1,p=decaying_rate) == 1:\n",
    "                new_gene = (gene+np.finfo(float).eps) * (1+ MutMagnitude*(2*np.random.uniform()-1)) * decaying_rate**Mutation_dampering\n",
    "            else:\n",
    "                new_gene = gene\n",
    "            new_off.append(new_gene)\n",
    "        new_offsprings.append(enforce_bounds(new_off,lb,ub))\n",
    "    return new_offsprings\n",
    "\n",
    "\n",
    "def genetic_algorithm(FitFun, initial_guess, lower_bound, upper_bound, options=None):\n",
    "    #Custom Genetic Algorithm. Developed by Edwin Juarez on 2016-03-21, ported to python on 2019-03-12\n",
    "    np.random.seed(0)\n",
    "\n",
    "    #Initialize the parameters\n",
    "    parameters = initial_guess\n",
    "    chromosome_length = len(parameters)\n",
    "    fitness = np.NINF\n",
    "\n",
    "    # fprintf('The initial guess is:');\n",
    "    # parameters\n",
    "    fitness = FitFun(initial_guess)\n",
    "\n",
    "    # Choose parameters:\n",
    "    \n",
    "    ## Population Size, N : Depends on the dimensions of the sample space\n",
    "    PopSize = 2e2\n",
    "\n",
    "    ## Number of mating individuals must be an even number\n",
    "    FittestNumber = int(min(PopSize*0.1,10**3*0.05)) # 10 percent of the population will reproduce up to 50 individuals\n",
    "\n",
    "    ## Number of \"Elite\" individuals who will remain from Gen[i] to Gen[i+1]\n",
    "    Elite = int(min(PopSize*0.1,10**3*0.05)) # 10 percent of the population up to 50 individuals\n",
    "\n",
    "    ## Number of Generations to Simulate: How many iterations to simulate? Presumably the more the better.\n",
    "    LastGen = 500\n",
    "\n",
    "    ## Mutation Rates: Probability of each gene (parameter) having a point mutation.\n",
    "    MutRate = 0.98 # there is a 98 percent chance of a mutation. There is a lot of genetic variation!\n",
    "    MutMagnitude = 2 # with a mutation the parameter will change up to 100%\n",
    "\n",
    "    # Crossover Points: Location(s) where the individuals swap genes in producing children (next generation).\n",
    "    # CrossPoint = 1; # swap (after) the first \"chromosome\" [parameter]\n",
    "    CrossPoint = int(np.floor(1+chromosome_length*np.random.uniform())) # Discrete Uniform RV ranging from 1 to chromosome_length (the number of parameters)\n",
    "    \n",
    "    # Initialize the G[0] population randomly: Create a set of N solutions randomly\n",
    "    # Gi = RandomParameters(PopSize,parameters);\n",
    "    Gi = RandomParameters(PopSize,parameters,1,lower_bound,upper_bound);\n",
    "#     vanguardia=Gi(1:4,:);\n",
    "#     prev_vanguardia = Gi(1,:);\n",
    "    # Running the main loop now\n",
    "    i=0\n",
    "    print('Runing the custom genetic algorithm')\n",
    "#     print(\"The first generation takes the longest\")\n",
    "    while i<LastGen:\n",
    "#         print(f\"Generation {i}\")\n",
    "        # Calculate fitness for population\n",
    "        Gi_fit = GenerationFitness(FitFun,Gi)\n",
    "\n",
    "        ## Select mates to create children for the G1 (N+1) population\n",
    "        ## Mate selection: Individuals ranked proportional to their fitness\n",
    "\n",
    "        ###Order them from the most fit to the least fit\n",
    "        temp = []\n",
    "        for params, fitness in zip(Gi, Gi_fit):\n",
    "            temp2 = params.copy()\n",
    "            temp2.append(fitness)\n",
    "            temp.append(temp2)\n",
    "        temp = sorted(temp, key=itemgetter(len(temp[0])-1), reverse=True)\n",
    "        ###Consider only the fittest individuals\n",
    "        Gi_fittest = temp[0:FittestNumber]\n",
    "        # Drop the fitness\n",
    "        for x in Gi_fittest:\n",
    "            del x[len(x)-1]\n",
    "\n",
    "        ###Randomly assign mates\n",
    "        Gi_mate = np.random.permutation(Gi_fittest) # permutate all individuals\n",
    "        Gi_mate_1 = Gi_mate[0:int(FittestNumber/2)] # split the population in two\n",
    "        Gi_mate_2 = Gi_mate[int(FittestNumber/2):]\n",
    "\n",
    "        ### Mate: Genes are exchanged prescribed by cross-over points\n",
    "        Offsprings = crossover(Gi_mate_1,Gi_mate_2,CrossPoint)\n",
    "\n",
    "        ### Introduce point mutations: \n",
    "        Offsprings = mutate(Offsprings,MutRate,MutMagnitude,i,lower_bound,upper_bound)\n",
    "\n",
    "        ### Clone the Elite members and mutate the clones\n",
    "        Clones = mutate(Gi_fittest[0:Elite],MutRate,MutMagnitude,1,lower_bound,upper_bound)\n",
    "\n",
    "        ### \"Elite\" fittest individuals mate with the next generation,\n",
    "        ### a mutated clone of some them also carries on.\n",
    "\n",
    "        ### on each generation a number of random individuals show up equal to the\n",
    "        ### number of Elite individuals\n",
    "        Gi = Gi_fittest[0:Elite]+Clones+Offsprings+RandomParameters(Elite,parameters,1,lower_bound,upper_bound)\n",
    "        i += 1\n",
    "    print(f'Done!, fittest individual was {Gi_fittest[0]} with fitness {FitFun(Gi_fittest[0])}')\n",
    "    return Gi_fittest[0]"
   ]
  },
  {
   "cell_type": "markdown",
   "metadata": {},
   "source": [
    "##  Create Cells Mask"
   ]
  },
  {
   "cell_type": "markdown",
   "metadata": {},
   "source": [
    "#Callibate mask"
   ]
  },
  {
   "cell_type": "code",
   "execution_count": null,
   "metadata": {},
   "outputs": [],
   "source": [
    "# Mostly from here: https://www.learnopencv.com/filling-holes-in-an-image-using-opencv-python-c/\n",
    "%matplotlib inline\n",
    "import cv2\n",
    "import numpy as np\n",
    "from skimage import draw\n",
    "from skimage import io\n",
    "\n",
    " \n",
    "# Read image\n",
    "im_in = cv2.imread(\"analyses/MDA231_stopper_1_c3.tif\", cv2.IMREAD_GRAYSCALE);\n",
    " \n",
    "# Threshold.\n",
    "# Set values equal to or above 20 to 0.\n",
    "# Set values below 20 to 255.\n",
    " \n",
    "th, im_th = cv2.threshold(im_in, 20, 255, cv2.THRESH_BINARY_INV);\n",
    " \n",
    "# Copy the thresholded image.\n",
    "im_floodfill = im_th.copy()\n",
    " \n",
    "# Mask used to flood filling.\n",
    "# Notice the size needs to be 2 pixels than the image.\n",
    "h, w = im_th.shape[:2]\n",
    "mask = np.zeros((h+2, w+2), np.uint8)\n",
    " \n",
    "# Floodfill from point (0, 0)\n",
    "cv2.floodFill(im_floodfill, mask, (0,0), 255);\n",
    " \n",
    "# Invert floodfilled image\n",
    "im_floodfill_inv = cv2.bitwise_not(im_floodfill)\n",
    " \n",
    "# Combine the two images to get the foreground.\n",
    "im_out = im_th | im_floodfill_inv\n",
    "io.imsave(fname='temp_output.png', arr=im_out)\n",
    "\n",
    "# im_out_inv = cv2.bitwise_not(im_out)\n",
    "\n",
    "\n",
    "# dilate the mask:\n",
    "k_size = 2\n",
    "k_half = k_size/2\n",
    "kernel = np.ones((k_size,k_size),np.uint8)\n",
    "coords = draw.circle(k_half, k_half, k_half, shape=im_th.shape)\n",
    "kernel[coords] = 1 \n",
    "erosion = cv2.erode(im_out,kernel,iterations = 1)\n",
    "dilation = cv2.dilate(cv2.bitwise_not(erosion),kernel,iterations = 1)\n",
    "# cells_mask = cv2.bitwise_not(dilation)\n",
    "cells_mask = dilation/255\n",
    "\n",
    "\n",
    "io.imshow(cells_mask)\n",
    "print(\"Note that a value of ~1 means that pixel belongs to the mask and it is rendered as white.\")\n",
    "print(\"A value of 0 means it deos not belong the mask and it is rendered as black.\")\n",
    "# io.imsave(fname='mask.png', arr=dilation)"
   ]
  },
  {
   "cell_type": "markdown",
   "metadata": {},
   "source": [
    "## cost functions"
   ]
  },
  {
   "cell_type": "markdown",
   "metadata": {},
   "source": [
    "### optimize"
   ]
  },
  {
   "cell_type": "code",
   "execution_count": null,
   "metadata": {},
   "outputs": [],
   "source": [
    "from skimage import io, color, measure, draw, img_as_bool\n",
    "import numpy as np\n",
    "from scipy import optimize\n",
    "import matplotlib.pyplot as plt"
   ]
  },
  {
   "cell_type": "code",
   "execution_count": null,
   "metadata": {},
   "outputs": [],
   "source": [
    "filename = 'analyses/MDA231_stopper_1_c3.tif'\n",
    "image = io.imread(filename,as_grey=True)\n",
    "im2 = image>0.2\n",
    "im2 = im2.astype(int)"
   ]
  },
  {
   "cell_type": "code",
   "execution_count": null,
   "metadata": {},
   "outputs": [],
   "source": [
    "maxy, maxx = image.shape\n",
    "minx, miny = (0,0)\n",
    "maxr = min(maxx,maxy)/2"
   ]
  },
  {
   "cell_type": "code",
   "execution_count": null,
   "metadata": {},
   "outputs": [],
   "source": [
    "x0 = im2.shape[1]/2\n",
    "y0 = im2.shape[0]/2\n",
    "r0 = im2.shape[1]/3"
   ]
  },
  {
   "cell_type": "code",
   "execution_count": null,
   "metadata": {},
   "outputs": [],
   "source": []
  },
  {
   "cell_type": "code",
   "execution_count": null,
   "metadata": {},
   "outputs": [],
   "source": [
    "image_gray = io.imread(filename,as_gray=True)\n",
    "coords = draw.circle(y0, x0, r0, shape=image_gray.shape)\n",
    "coords\n"
   ]
  },
  {
   "attachments": {
    "image.png": {
     "image/png": "[encoded data removed]"
    }
   },
   "cell_type": "markdown",
   "metadata": {},
   "source": [
    "![image.png](attachment:image.png)"
   ]
  },
  {
   "cell_type": "code",
   "execution_count": null,
   "metadata": {},
   "outputs": [],
   "source": []
  },
  {
   "cell_type": "code",
   "execution_count": null,
   "metadata": {},
   "outputs": [],
   "source": [
    "# image_gray[]"
   ]
  },
  {
   "cell_type": "code",
   "execution_count": null,
   "metadata": {
    "nbtools": {
     "description": "",
     "name": "cost",
     "param_values": {
      "params": ""
     },
     "show_code": true,
     "type": "uibuilder"
    }
   },
   "outputs": [],
   "source": [
    "@genepattern.build_ui\n",
    "def cost(params):\n",
    "    maxy, maxx = im2.shape\n",
    "    maxr = min(maxx,maxy)/2\n",
    "    area = maxy*maxx\n",
    "    \n",
    "    x0= params[0]\n",
    "    y0 = params[1]\n",
    "    r0 = params[2]\n",
    "    \n",
    "    coords = draw.circle(y0, x0, r0, shape=im2.shape)\n",
    "    template = np.zeros_like(im2) #set all values to be zero\n",
    "    template[coords] = 1\n",
    "    \n",
    "    mask_size = np.sum(template)\n",
    "    cell_pixels_covered_by_mask = np.sum(template&im2)\n",
    "    penalty_harshness = 10\n",
    "    \n",
    "    score = mask_size - penalty_harshness*cell_pixels_covered_by_mask\n",
    "    score = score/area\n",
    "        \n",
    "    return -score\n",
    "\n",
    "def cost_obj(params):\n",
    "    maxy, maxx = im2.shape\n",
    "    maxr = min(maxx,maxy)/2\n",
    "    area = maxy*maxx\n",
    "    \n",
    "    \n",
    "    x0= params['x']\n",
    "    y0 = params['y']\n",
    "    r0 = params['r']\n",
    "    \n",
    "    coords = draw.circle(y0, x0, r0, shape=im2.shape)\n",
    "    template = np.zeros_like(im2) #set all values to be zero\n",
    "    template[coords] = 1\n",
    "    \n",
    "    mask_size = np.sum(template)\n",
    "    cell_pixels_covered_by_mask = np.sum(template&im2)\n",
    "    penalty_harshness = 10\n",
    "    \n",
    "    score = mask_size - penalty_harshness*cell_pixels_covered_by_mask\n",
    "    score = score/area\n",
    "    \n",
    "    return -score"
   ]
  },
  {
   "cell_type": "code",
   "execution_count": null,
   "metadata": {},
   "outputs": [],
   "source": [
    "import matplotlib.pyplot as plt\n",
    "\n",
    "x = [i for i in np.arange(0,1000,50)]\n",
    "y = [cost([x0,y0,i]) for i in x]\n",
    "# plt.gcf().set_size_inches(16,9)\n",
    "plt.scatter(x,y)\n",
    "# plt.gca().set_xticks(x)\n",
    "plt.grid(True)\n",
    "\n",
    "# x_opt = x0\n",
    "# y_opt = y0\n",
    "# r_opt = 300\n",
    "# print([x_opt,y_opt,r_opt])\n",
    "# f, ax = plt.subplots()\n",
    "# circle = plt.Circle((x_opt, y_opt), r_opt, alpha = 0.5)\n",
    "# ax.imshow(im2, cmap='gray', interpolation='nearest')\n",
    "# ax.add_artist(circle)\n",
    "# print('############')\n",
    "# print(f'Method \"{method}\"\"\\tobjective={cost([x_opt,y_opt,r_opt])}')\n",
    "# print('############')\n",
    "# plt.show()"
   ]
  },
  {
   "cell_type": "code",
   "execution_count": null,
   "metadata": {},
   "outputs": [],
   "source": [
    "import matplotlib.pyplot as plt\n",
    "\n",
    "x = [i for i in np.arange(0,1000,50)]\n",
    "y = [cost([x0,y0,i]) for i in x]\n",
    "# plt.gcf().set_size_inches(16,9)\n",
    "plt.scatter(x,y)\n",
    "# plt.gca().set_xticks(x)\n",
    "plt.grid(True)\n",
    "\n",
    "x_opt = x0\n",
    "y_opt = y0\n",
    "r_opt = 300\n",
    "print([x_opt,y_opt,r_opt])\n",
    "f, ax = plt.subplots()\n",
    "circle = plt.Circle((x_opt, y_opt), r_opt, alpha = 0.5)\n",
    "ax.imshow(im2, cmap='gray', interpolation='nearest')\n",
    "ax.add_artist(circle)\n",
    "print('############')\n",
    "print(f'Method \"{method}\"\"\\tobjective={cost([x_opt,y_opt,r_opt])}')\n",
    "print('############')\n",
    "plt.show()"
   ]
  },
  {
   "cell_type": "code",
   "execution_count": null,
   "metadata": {
    "scrolled": true
   },
   "outputs": [],
   "source": []
  },
  {
   "cell_type": "code",
   "execution_count": null,
   "metadata": {},
   "outputs": [],
   "source": []
  },
  {
   "cell_type": "code",
   "execution_count": null,
   "metadata": {},
   "outputs": [],
   "source": []
  },
  {
   "cell_type": "code",
   "execution_count": null,
   "metadata": {},
   "outputs": [],
   "source": []
  },
  {
   "cell_type": "code",
   "execution_count": null,
   "metadata": {},
   "outputs": [],
   "source": [
    "from lmfit import Minimizer, Parameters, report_fit"
   ]
  },
  {
   "cell_type": "code",
   "execution_count": null,
   "metadata": {},
   "outputs": [],
   "source": []
  },
  {
   "cell_type": "code",
   "execution_count": null,
   "metadata": {},
   "outputs": [],
   "source": [
    "# create a set of Parameters\n",
    "params = Parameters()\n",
    "params.add('x', value=x0, min=0, max=maxx)\n",
    "params.add('y', value=y0, min=0, max=maxy)\n",
    "params.add('r', value=r0/3, min=0, max=maxr)"
   ]
  },
  {
   "cell_type": "code",
   "execution_count": null,
   "metadata": {},
   "outputs": [],
   "source": [
    "%%time\n",
    "# do fit, here with leastsq model\n",
    "minner = Minimizer(cost_obj, params)\n",
    "result = minner.minimize(method='brute',Ns=30)\n",
    "report_fit(result)"
   ]
  },
  {
   "cell_type": "code",
   "execution_count": null,
   "metadata": {},
   "outputs": [],
   "source": [
    "method = 'None'\n",
    "x_opt = result.params['x'].value\n",
    "y_opt = result.params['y'].value\n",
    "r_opt = result.params['r'].value\n",
    "print([x_opt,y_opt,r_opt])\n",
    "f, ax = plt.subplots()\n",
    "circle = plt.Circle((x_opt, y_opt), r_opt, alpha = 0.5)\n",
    "ax.imshow(im2, cmap='gray', interpolation='nearest')\n",
    "ax.add_artist(circle)\n",
    "print('############')\n",
    "print(f'Method \"{method}\"\"\\tobjective={cost([x_opt,y_opt,r_opt])}')\n",
    "print('############')\n",
    "plt.show()"
   ]
  },
  {
   "cell_type": "code",
   "execution_count": null,
   "metadata": {},
   "outputs": [],
   "source": [
    "%%time\n",
    "# do fit, here with leastsq model\n",
    "minner = Minimizer(cost_obj, params)\n",
    "result = minner.minimize(method='brute',Ns=30)\n",
    "report_fit(result)\n",
    "print('############')\n",
    "method = 'None'\n",
    "x_opt = result.params['x'].value\n",
    "y_opt = result.params['y'].value\n",
    "r_opt = result.params['r'].value\n",
    "print([x_opt,y_opt,r_opt])\n",
    "f, ax = plt.subplots()\n",
    "circle = plt.Circle((x_opt, y_opt), r_opt, alpha = 0.5)\n",
    "ax.imshow(im2, cmap='gray', interpolation='nearest')\n",
    "ax.add_artist(circle)\n",
    "print('############')\n",
    "print(f'Method \"{method}\"\"\\tobjective={cost([x_opt,y_opt,r_opt])}')\n",
    "print('############')\n",
    "plt.show()"
   ]
  },
  {
   "cell_type": "code",
   "execution_count": null,
   "metadata": {},
   "outputs": [],
   "source": []
  },
  {
   "cell_type": "code",
   "execution_count": null,
   "metadata": {},
   "outputs": [],
   "source": []
  },
  {
   "cell_type": "code",
   "execution_count": 89,
   "metadata": {},
   "outputs": [
    {
     "data": {
      "text/plain": [
       "1070408.238976916"
      ]
     },
     "execution_count": 89,
     "metadata": {},
     "output_type": "execute_result"
    }
   ],
   "source": []
  },
  {
   "cell_type": "markdown",
   "metadata": {},
   "source": [
    "----"
   ]
  },
  {
   "cell_type": "markdown",
   "metadata": {},
   "source": [
    "## Begin test 2019-03-18"
   ]
  },
  {
   "cell_type": "code",
   "execution_count": 61,
   "metadata": {},
   "outputs": [],
   "source": [
    "maxy, maxx = im2.shape\n",
    "minx, miny = (0,0)\n",
    "maxr = min(maxx,maxy)/2\n",
    "\n",
    "x0 = im2.shape[1]/2\n",
    "y0 = im2.shape[0]/2\n",
    "r0 = min(im2.shape[1],im2.shape[0])/4\n",
    "\n",
    "#\n",
    "xmid = im2.shape[1]/2\n",
    "ymid = im2.shape[0]/2\n",
    "rmid = min(xmid,ymid)\n",
    "\n",
    "\n",
    "# create a set of Parameters\n",
    "params = Parameters()\n",
    "params.add('x', value=x0, min=xmid-x0/4, max=xmid+x0/4)\n",
    "params.add('y', value=y0, min=ymid-y0/4, max=ymid+y0/4)\n",
    "params.add('r', value=r0, min=r0, max=maxr) # Radius is a bit different"
   ]
  },
  {
   "cell_type": "code",
   "execution_count": 63,
   "metadata": {},
   "outputs": [
    {
     "data": {
      "text/plain": [
       "520.5"
      ]
     },
     "execution_count": 63,
     "metadata": {},
     "output_type": "execute_result"
    }
   ],
   "source": [
    "xmid-x0/4"
   ]
  },
  {
   "cell_type": "code",
   "execution_count": 49,
   "metadata": {},
   "outputs": [
    {
     "data": {
      "text/plain": [
       "260.0"
      ]
     },
     "execution_count": 49,
     "metadata": {},
     "output_type": "execute_result"
    }
   ],
   "source": [
    "r0"
   ]
  },
  {
   "cell_type": "code",
   "execution_count": 50,
   "metadata": {
    "scrolled": true
   },
   "outputs": [
    {
     "data": {
      "text/plain": [
       "390.0"
      ]
     },
     "execution_count": 50,
     "metadata": {},
     "output_type": "execute_result"
    }
   ],
   "source": [
    "rmid-r0/2"
   ]
  },
  {
   "cell_type": "code",
   "execution_count": 51,
   "metadata": {},
   "outputs": [
    {
     "data": {
      "text/plain": [
       "520.0"
      ]
     },
     "execution_count": 51,
     "metadata": {},
     "output_type": "execute_result"
    }
   ],
   "source": [
    "maxr"
   ]
  },
  {
   "cell_type": "code",
   "execution_count": 52,
   "metadata": {},
   "outputs": [
    {
     "data": {
      "text/plain": [
       "650.0"
      ]
     },
     "execution_count": 52,
     "metadata": {},
     "output_type": "execute_result"
    }
   ],
   "source": [
    "rmid+r0/2"
   ]
  },
  {
   "cell_type": "code",
   "execution_count": null,
   "metadata": {},
   "outputs": [],
   "source": []
  },
  {
   "cell_type": "code",
   "execution_count": 18,
   "metadata": {},
   "outputs": [
    {
     "name": "stdout",
     "output_type": "stream",
     "text": [
      "[[Fit Statistics]]\n",
      "    # fitting method   = L-BFGS-B\n",
      "    # function evals   = 4\n",
      "    # data points      = 1\n",
      "    # variables        = 3\n",
      "    chi-square         = 0.06210127\n",
      "    reduced chi-square = 0.06210127\n",
      "    Akaike info crit   = 3.22101111\n",
      "    Bayesian info crit = -2.77898889\n",
      "[[Variables]]\n",
      "    x:  712.263158 (init = 712.2632)\n",
      "    y:  533.684211 (init = 533.6842)\n",
      "    r:  352.877193 (init = 352.8772)\n",
      "############\n",
      "[712.2631578947369, 533.6842105263158, 352.8771929824561]\n",
      "############\n",
      "Method \"None\"\"\tobjective=-0.24920125803591223\n",
      "############\n"
     ]
    },
    {
     "data": {
      "image/png": "[encoded data removed]",
      "text/plain": [
       "<Figure size 432x288 with 1 Axes>"
      ]
     },
     "metadata": {
      "needs_background": "light"
     },
     "output_type": "display_data"
    },
    {
     "name": "stdout",
     "output_type": "stream",
     "text": [
      "CPU times: user 2min 28s, sys: 50.6 ms, total: 2min 28s\n",
      "Wall time: 2min 28s\n"
     ]
    }
   ],
   "source": [
    "# %%time\n",
    "# # do fit, here with leastsq model\n",
    "# minner = Minimizer(cost_obj, params)\n",
    "# result = minner.minimize(method='brute',Ns=20)\n",
    "# minner = Minimizer(cost_obj, result.params)\n",
    "# result = minner.minimize(method='lbfgsb')\n",
    "# report_fit(result)\n",
    "# print('############')\n",
    "# method = 'None'\n",
    "# x_opt = result.params['x'].value\n",
    "# y_opt = result.params['y'].value\n",
    "# r_opt = result.params['r'].value\n",
    "# print([x_opt,y_opt,r_opt])\n",
    "# f, ax = plt.subplots()\n",
    "# circle = plt.Circle((x_opt, y_opt), r_opt, alpha = 0.5)\n",
    "# ax.imshow(im2, cmap='gray', interpolation='nearest')\n",
    "# ax.add_artist(circle)\n",
    "# print('############')\n",
    "# print(f'Method \"{method}\"\"\\tobjective={cost([x_opt,y_opt,r_opt])}')\n",
    "# print('############')\n",
    "# plt.show()"
   ]
  },
  {
   "cell_type": "code",
   "execution_count": 54,
   "metadata": {},
   "outputs": [
    {
     "name": "stdout",
     "output_type": "stream",
     "text": [
      "[[Fit Statistics]]\n",
      "    # fitting method   = brute\n",
      "    # function evals   = 8000\n",
      "    # data points      = 1\n",
      "    # variables        = 3\n",
      "    chi-square         = 0.06257796\n",
      "    reduced chi-square = 0.06257796\n",
      "    Akaike info crit   = 3.22865784\n",
      "    Bayesian info crit = -2.77134216\n",
      "[[Variables]]\n",
      "    x:  712.263158 (init = 694)\n",
      "    y:  533.684211 (init = 520)\n",
      "    r:  342.105263 (init = 260)\n",
      "############\n",
      "[712.2631578947369, 533.6842105263158, 342.10526315789474]\n",
      "############\n",
      "Method \"None\"\"\tobjective=-0.2501558689869209\n",
      "############\n"
     ]
    },
    {
     "data": {
      "image/png": "[encoded data removed]",
      "text/plain": [
       "<Figure size 432x288 with 1 Axes>"
      ]
     },
     "metadata": {
      "needs_background": "light"
     },
     "output_type": "display_data"
    },
    {
     "name": "stdout",
     "output_type": "stream",
     "text": [
      "CPU times: user 2min 34s, sys: 120 ms, total: 2min 34s\n",
      "Wall time: 2min 34s\n"
     ]
    }
   ],
   "source": [
    "%%time\n",
    "# do fit, here with leastsq model\n",
    "minner = Minimizer(cost_obj, params)\n",
    "result = minner.minimize(method='brute',Ns=20)\n",
    "report_fit(result)\n",
    "print('############')\n",
    "method = 'None'\n",
    "x_opt = result.params['x'].value\n",
    "y_opt = result.params['y'].value\n",
    "r_opt = result.params['r'].value\n",
    "print([x_opt,y_opt,r_opt])\n",
    "f, ax = plt.subplots()\n",
    "circle = plt.Circle((x_opt, y_opt), r_opt, alpha = 0.5)\n",
    "ax.imshow(im2, cmap='gray', interpolation='nearest')\n",
    "ax.add_artist(circle)\n",
    "print('############')\n",
    "print(f'Method \"{method}\"\"\\tobjective={cost([x_opt,y_opt,r_opt])}')\n",
    "print('############')\n",
    "plt.show()"
   ]
  },
  {
   "cell_type": "code",
   "execution_count": 67,
   "metadata": {},
   "outputs": [],
   "source": []
  },
  {
   "cell_type": "code",
   "execution_count": 77,
   "metadata": {},
   "outputs": [],
   "source": []
  },
  {
   "cell_type": "code",
   "execution_count": 86,
   "metadata": {},
   "outputs": [
    {
     "name": "stdout",
     "output_type": "stream",
     "text": [
      "############\n",
      "[719.4217198428557, 522.9272396978797, 350.4489820493204]\n",
      "############\n",
      "Method \"scipy.brute\"\"\tobjective=-0.26059285635114166 (brute thinks it is -0.26059285635114166)\n",
      "############\n"
     ]
    },
    {
     "data": {
      "image/png": "[encoded data removed]",
      "text/plain": [
       "<Figure size 432x288 with 1 Axes>"
      ]
     },
     "metadata": {
      "needs_background": "light"
     },
     "output_type": "display_data"
    },
    {
     "name": "stdout",
     "output_type": "stream",
     "text": [
      "CPU times: user 1min 2s, sys: 120 ms, total: 1min 2s\n",
      "Wall time: 1min 2s\n"
     ]
    }
   ],
   "source": [
    "%%time\n",
    "\n",
    "finesse = 30\n",
    "coarse = finesse*1/3\n",
    "\n",
    "# do fit, here with leastsq model\n",
    "# minner = Minimizer(cost_obj, params)\n",
    "x_slice = slice(params['x'].min, params['x'].max, (params['x'].max - params['x'].min)/coarse)\n",
    "y_slice = slice(params['y'].min, params['y'].max, (params['y'].max - params['y'].min)/coarse)\n",
    "r_slice = slice(params['r'].min, params['r'].max, (params['r'].max - params['r'].min)/finesse)\n",
    "rranges = (x_slice,y_slice, r_slice)\n",
    "\n",
    "resbrute = optimize.brute(cost, rranges,full_output=True)\n",
    "\n",
    "# result = minner.minimize(method='brute',ranges=rranges)\n",
    "# report_fit(result)\n",
    "print('############')\n",
    "method = 'scipy.brute'\n",
    "opt_params = resbrute[0]\n",
    "x_opt = opt_params[0]\n",
    "y_opt = opt_params[1]\n",
    "r_opt = opt_params[2]\n",
    "print([x_opt,y_opt,r_opt])\n",
    "f, ax = plt.subplots()\n",
    "circle = plt.Circle((x_opt, y_opt), r_opt, alpha = 0.5)\n",
    "ax.imshow(im2, cmap='gray', interpolation='nearest')\n",
    "ax.add_artist(circle)\n",
    "print('############')\n",
    "print(f'Method \"{method}\"\"\\tobjective={cost([x_opt,y_opt,r_opt])} (brute thinks it is {resbrute[1]})')\n",
    "print('############')\n",
    "plt.show()"
   ]
  },
  {
   "cell_type": "code",
   "execution_count": 87,
   "metadata": {},
   "outputs": [
    {
     "name": "stdout",
     "output_type": "stream",
     "text": [
      "############\n",
      "[719.3905385081202, 522.9498400224588, 350.4650555826406]\n",
      "############\n",
      "Method \"scipy.brute\"\"\tobjective=-0.2605873143427178 (brute thinks it is -0.2605873143427178)\n",
      "############\n"
     ]
    },
    {
     "data": {
      "image/png": "[encoded data removed]",
      "text/plain": [
       "<Figure size 432x288 with 1 Axes>"
      ]
     },
     "metadata": {
      "needs_background": "light"
     },
     "output_type": "display_data"
    },
    {
     "name": "stdout",
     "output_type": "stream",
     "text": [
      "CPU times: user 21.8 s, sys: 172 ms, total: 22 s\n",
      "Wall time: 21.8 s\n"
     ]
    }
   ],
   "source": [
    "%%time\n",
    "\n",
    "finesse = 20\n",
    "coarse = finesse*1/3\n",
    "\n",
    "# do fit, here with leastsq model\n",
    "# minner = Minimizer(cost_obj, params)\n",
    "x_slice = slice(params['x'].min, params['x'].max, (params['x'].max - params['x'].min)/coarse)\n",
    "y_slice = slice(params['y'].min, params['y'].max, (params['y'].max - params['y'].min)/coarse)\n",
    "r_slice = slice(params['r'].min, params['r'].max, (params['r'].max - params['r'].min)/finesse)\n",
    "rranges = (x_slice,y_slice, r_slice)\n",
    "\n",
    "resbrute = optimize.brute(cost, rranges,full_output=True)\n",
    "\n",
    "# result = minner.minimize(method='brute',ranges=rranges)\n",
    "# report_fit(result)\n",
    "print('############')\n",
    "method = 'scipy.brute'\n",
    "opt_params = resbrute[0]\n",
    "x_opt = opt_params[0]\n",
    "y_opt = opt_params[1]\n",
    "r_opt = opt_params[2]\n",
    "print([x_opt,y_opt,r_opt])\n",
    "f, ax = plt.subplots()\n",
    "circle = plt.Circle((x_opt, y_opt), r_opt, alpha = 0.5)\n",
    "ax.imshow(im2, cmap='gray', interpolation='nearest')\n",
    "ax.add_artist(circle)\n",
    "print('############')\n",
    "print(f'Method \"{method}\"\"\\tobjective={cost([x_opt,y_opt,r_opt])} (brute thinks it is {resbrute[1]})')\n",
    "print('############')\n",
    "plt.show()"
   ]
  },
  {
   "cell_type": "code",
   "execution_count": null,
   "metadata": {},
   "outputs": [],
   "source": []
  },
  {
   "cell_type": "code",
   "execution_count": 88,
   "metadata": {},
   "outputs": [
    {
     "name": "stdout",
     "output_type": "stream",
     "text": [
      "############\n",
      "[719.6464974893577, 522.9251007556184, 350.5666691220708]\n",
      "############\n",
      "Method \"scipy.brute\"\"\tobjective=-0.26055059853690976 (brute thinks it is -0.26055059853690976)\n",
      "############\n"
     ]
    },
    {
     "data": {
      "image/png": "[encoded data removed]",
      "text/plain": [
       "<Figure size 432x288 with 1 Axes>"
      ]
     },
     "metadata": {
      "needs_background": "light"
     },
     "output_type": "display_data"
    },
    {
     "name": "stdout",
     "output_type": "stream",
     "text": [
      "CPU times: user 1min 19s, sys: 156 ms, total: 1min 19s\n",
      "Wall time: 1min 19s\n"
     ]
    }
   ],
   "source": [
    "%%time\n",
    "\n",
    "finesse = 20\n",
    "coarse = finesse*2/3\n",
    "\n",
    "# do fit, here with leastsq model\n",
    "# minner = Minimizer(cost_obj, params)\n",
    "x_slice = slice(params['x'].min, params['x'].max, (params['x'].max - params['x'].min)/coarse)\n",
    "y_slice = slice(params['y'].min, params['y'].max, (params['y'].max - params['y'].min)/coarse)\n",
    "r_slice = slice(params['r'].min, params['r'].max, (params['r'].max - params['r'].min)/finesse)\n",
    "rranges = (x_slice,y_slice, r_slice)\n",
    "\n",
    "resbrute = optimize.brute(cost, rranges,full_output=True)\n",
    "\n",
    "# result = minner.minimize(method='brute',ranges=rranges)\n",
    "# report_fit(result)\n",
    "print('############')\n",
    "method = 'scipy.brute'\n",
    "opt_params = resbrute[0]\n",
    "x_opt = opt_params[0]\n",
    "y_opt = opt_params[1]\n",
    "r_opt = opt_params[2]\n",
    "print([x_opt,y_opt,r_opt])\n",
    "f, ax = plt.subplots()\n",
    "circle = plt.Circle((x_opt, y_opt), r_opt, alpha = 0.5)\n",
    "ax.imshow(im2, cmap='gray', interpolation='nearest')\n",
    "ax.add_artist(circle)\n",
    "print('############')\n",
    "print(f'Method \"{method}\"\"\\tobjective={cost([x_opt,y_opt,r_opt])} (brute thinks it is {resbrute[1]})')\n",
    "print('############')\n",
    "plt.show()"
   ]
  },
  {
   "cell_type": "code",
   "execution_count": 83,
   "metadata": {},
   "outputs": [
    {
     "name": "stdout",
     "output_type": "stream",
     "text": [
      "############\n",
      "[719.4139706406835, 522.9628849603446, 350.43983424324676]\n",
      "############\n",
      "Method \"scipy.brute\"\"\tobjective=-0.26059424185324764 (brute thinks it is -0.26059424185324764)\n",
      "############\n"
     ]
    },
    {
     "data": {
      "image/png": "[encoded data removed]",
      "text/plain": [
       "<Figure size 432x288 with 1 Axes>"
      ]
     },
     "metadata": {
      "needs_background": "light"
     },
     "output_type": "display_data"
    },
    {
     "name": "stdout",
     "output_type": "stream",
     "text": [
      "CPU times: user 4.16 s, sys: 104 ms, total: 4.26 s\n",
      "Wall time: 4.13 s\n"
     ]
    }
   ],
   "source": [
    "%%time\n",
    "\n",
    "finesse = 6\n",
    "coarse = finesse*2/3\n",
    "\n",
    "# do fit, here with leastsq model\n",
    "# minner = Minimizer(cost_obj, params)\n",
    "x_slice = slice(params['x'].min, params['x'].max, (params['x'].max - params['x'].min)/coarse)\n",
    "y_slice = slice(params['y'].min, params['y'].max, (params['y'].max - params['y'].min)/coarse)\n",
    "r_slice = slice(params['r'].min, params['r'].max, (params['r'].max - params['r'].min)/finesse)\n",
    "rranges = (x_slice,y_slice, r_slice)\n",
    "\n",
    "resbrute = optimize.brute(cost, rranges,full_output=True)\n",
    "\n",
    "# result = minner.minimize(method='brute',ranges=rranges)\n",
    "# report_fit(result)\n",
    "print('############')\n",
    "method = 'scipy.brute'\n",
    "opt_params = resbrute[0]\n",
    "x_opt = opt_params[0]\n",
    "y_opt = opt_params[1]\n",
    "r_opt = opt_params[2]\n",
    "print([x_opt,y_opt,r_opt])\n",
    "f, ax = plt.subplots()\n",
    "circle = plt.Circle((x_opt, y_opt), r_opt, alpha = 0.5)\n",
    "ax.imshow(im2, cmap='gray', interpolation='nearest')\n",
    "ax.add_artist(circle)\n",
    "print('############')\n",
    "print(f'Method \"{method}\"\"\\tobjective={cost([x_opt,y_opt,r_opt])} (brute thinks it is {resbrute[1]})')\n",
    "print('############')\n",
    "plt.show()"
   ]
  },
  {
   "cell_type": "code",
   "execution_count": 84,
   "metadata": {},
   "outputs": [
    {
     "data": {
      "text/plain": [
       "(array([719.41397064, 522.96288496, 350.43983424]),\n",
       " -0.26059424185324764,\n",
       " array([[[[520.5       , 520.5       , 520.5       , 520.5       ,\n",
       "           520.5       , 520.5       ],\n",
       "          [520.5       , 520.5       , 520.5       , 520.5       ,\n",
       "           520.5       , 520.5       ],\n",
       "          [520.5       , 520.5       , 520.5       , 520.5       ,\n",
       "           520.5       , 520.5       ],\n",
       "          [520.5       , 520.5       , 520.5       , 520.5       ,\n",
       "           520.5       , 520.5       ]],\n",
       " \n",
       "         [[607.25      , 607.25      , 607.25      , 607.25      ,\n",
       "           607.25      , 607.25      ],\n",
       "          [607.25      , 607.25      , 607.25      , 607.25      ,\n",
       "           607.25      , 607.25      ],\n",
       "          [607.25      , 607.25      , 607.25      , 607.25      ,\n",
       "           607.25      , 607.25      ],\n",
       "          [607.25      , 607.25      , 607.25      , 607.25      ,\n",
       "           607.25      , 607.25      ]],\n",
       " \n",
       "         [[694.        , 694.        , 694.        , 694.        ,\n",
       "           694.        , 694.        ],\n",
       "          [694.        , 694.        , 694.        , 694.        ,\n",
       "           694.        , 694.        ],\n",
       "          [694.        , 694.        , 694.        , 694.        ,\n",
       "           694.        , 694.        ],\n",
       "          [694.        , 694.        , 694.        , 694.        ,\n",
       "           694.        , 694.        ]],\n",
       " \n",
       "         [[780.75      , 780.75      , 780.75      , 780.75      ,\n",
       "           780.75      , 780.75      ],\n",
       "          [780.75      , 780.75      , 780.75      , 780.75      ,\n",
       "           780.75      , 780.75      ],\n",
       "          [780.75      , 780.75      , 780.75      , 780.75      ,\n",
       "           780.75      , 780.75      ],\n",
       "          [780.75      , 780.75      , 780.75      , 780.75      ,\n",
       "           780.75      , 780.75      ]]],\n",
       " \n",
       " \n",
       "        [[[390.        , 390.        , 390.        , 390.        ,\n",
       "           390.        , 390.        ],\n",
       "          [455.        , 455.        , 455.        , 455.        ,\n",
       "           455.        , 455.        ],\n",
       "          [520.        , 520.        , 520.        , 520.        ,\n",
       "           520.        , 520.        ],\n",
       "          [585.        , 585.        , 585.        , 585.        ,\n",
       "           585.        , 585.        ]],\n",
       " \n",
       "         [[390.        , 390.        , 390.        , 390.        ,\n",
       "           390.        , 390.        ],\n",
       "          [455.        , 455.        , 455.        , 455.        ,\n",
       "           455.        , 455.        ],\n",
       "          [520.        , 520.        , 520.        , 520.        ,\n",
       "           520.        , 520.        ],\n",
       "          [585.        , 585.        , 585.        , 585.        ,\n",
       "           585.        , 585.        ]],\n",
       " \n",
       "         [[390.        , 390.        , 390.        , 390.        ,\n",
       "           390.        , 390.        ],\n",
       "          [455.        , 455.        , 455.        , 455.        ,\n",
       "           455.        , 455.        ],\n",
       "          [520.        , 520.        , 520.        , 520.        ,\n",
       "           520.        , 520.        ],\n",
       "          [585.        , 585.        , 585.        , 585.        ,\n",
       "           585.        , 585.        ]],\n",
       " \n",
       "         [[390.        , 390.        , 390.        , 390.        ,\n",
       "           390.        , 390.        ],\n",
       "          [455.        , 455.        , 455.        , 455.        ,\n",
       "           455.        , 455.        ],\n",
       "          [520.        , 520.        , 520.        , 520.        ,\n",
       "           520.        , 520.        ],\n",
       "          [585.        , 585.        , 585.        , 585.        ,\n",
       "           585.        , 585.        ]]],\n",
       " \n",
       " \n",
       "        [[[260.        , 303.33333333, 346.66666667, 390.        ,\n",
       "           433.33333333, 476.66666667],\n",
       "          [260.        , 303.33333333, 346.66666667, 390.        ,\n",
       "           433.33333333, 476.66666667],\n",
       "          [260.        , 303.33333333, 346.66666667, 390.        ,\n",
       "           433.33333333, 476.66666667],\n",
       "          [260.        , 303.33333333, 346.66666667, 390.        ,\n",
       "           433.33333333, 476.66666667]],\n",
       " \n",
       "         [[260.        , 303.33333333, 346.66666667, 390.        ,\n",
       "           433.33333333, 476.66666667],\n",
       "          [260.        , 303.33333333, 346.66666667, 390.        ,\n",
       "           433.33333333, 476.66666667],\n",
       "          [260.        , 303.33333333, 346.66666667, 390.        ,\n",
       "           433.33333333, 476.66666667],\n",
       "          [260.        , 303.33333333, 346.66666667, 390.        ,\n",
       "           433.33333333, 476.66666667]],\n",
       " \n",
       "         [[260.        , 303.33333333, 346.66666667, 390.        ,\n",
       "           433.33333333, 476.66666667],\n",
       "          [260.        , 303.33333333, 346.66666667, 390.        ,\n",
       "           433.33333333, 476.66666667],\n",
       "          [260.        , 303.33333333, 346.66666667, 390.        ,\n",
       "           433.33333333, 476.66666667],\n",
       "          [260.        , 303.33333333, 346.66666667, 390.        ,\n",
       "           433.33333333, 476.66666667]],\n",
       " \n",
       "         [[260.        , 303.33333333, 346.66666667, 390.        ,\n",
       "           433.33333333, 476.66666667],\n",
       "          [260.        , 303.33333333, 346.66666667, 390.        ,\n",
       "           433.33333333, 476.66666667],\n",
       "          [260.        , 303.33333333, 346.66666667, 390.        ,\n",
       "           433.33333333, 476.66666667],\n",
       "          [260.        , 303.33333333, 346.66666667, 390.        ,\n",
       "           433.33333333, 476.66666667]]]]),\n",
       " array([[[ 0.03878713,  0.10908612,  0.223203  ,  0.38695965,\n",
       "           0.55114165,  0.74916454],\n",
       "         [-0.01482487,  0.05927039,  0.16540678,  0.32417563,\n",
       "           0.52360896,  0.75668366],\n",
       "         [-0.01698626,  0.04540152,  0.16175599,  0.30738334,\n",
       "           0.48273664,  0.74297412],\n",
       "         [ 0.0180046 ,  0.10395977,  0.19685768,  0.33923603,\n",
       "           0.53079971,  0.7971708 ]],\n",
       " \n",
       "        [[-0.05806501, -0.00794793,  0.0687216 ,  0.20582742,\n",
       "           0.36905204,  0.54923797],\n",
       "         [-0.1156534 , -0.09077325, -0.02207036,  0.09701009,\n",
       "           0.30836358,  0.56764298],\n",
       "         [-0.14054395, -0.11479093, -0.04361491,  0.08501857,\n",
       "           0.25995414,  0.5673361 ],\n",
       "         [-0.12238002, -0.07521406,  0.00330512,  0.12886971,\n",
       "           0.31064966,  0.56455609]],\n",
       " \n",
       "        [[-0.10787589, -0.07313026, -0.00843979,  0.11583837,\n",
       "           0.26199014,  0.4635038 ],\n",
       "         [-0.14653832, -0.17346833, -0.13522016, -0.02937611,\n",
       "           0.19941324,  0.50983845],\n",
       "         [-0.14653832, -0.19966817, -0.24090626, -0.05720392,\n",
       "           0.1934348 ,  0.48743835],\n",
       "         [-0.14642056, -0.18351322, -0.13863542, -0.02424282,\n",
       "           0.2106081 ,  0.51611131]],\n",
       " \n",
       "        [[-0.09202366, -0.05376649,  0.02843812,  0.14412409,\n",
       "           0.31178924,  0.51699041],\n",
       "         [-0.14576036, -0.14868031, -0.08408543,  0.01988611,\n",
       "           0.22429824,  0.53955886],\n",
       "         [-0.14693804, -0.18553467, -0.13783598, -0.02667369,\n",
       "           0.18013536,  0.51578156],\n",
       "         [-0.14704195, -0.13919655, -0.08473662,  0.01115745,\n",
       "           0.20385516,  0.53807221]]]))"
      ]
     },
     "execution_count": 84,
     "metadata": {},
     "output_type": "execute_result"
    }
   ],
   "source": [
    "resbrute"
   ]
  },
  {
   "cell_type": "code",
   "execution_count": null,
   "metadata": {},
   "outputs": [],
   "source": []
  },
  {
   "cell_type": "code",
   "execution_count": 19,
   "metadata": {},
   "outputs": [
    {
     "name": "stdout",
     "output_type": "stream",
     "text": [
      "[[Fit Statistics]]\n",
      "    # fitting method   = L-BFGS-B\n",
      "    # function evals   = 4\n",
      "    # data points      = 1\n",
      "    # variables        = 3\n",
      "    chi-square         = 0.06418875\n",
      "    reduced chi-square = 0.06418875\n",
      "    Akaike info crit   = 3.25407272\n",
      "    Bayesian info crit = -2.74592728\n",
      "[[Variables]]\n",
      "    x:  705.965517 (init = 705.9655)\n",
      "    y:  528.965517 (init = 528.9655)\n",
      "    r:  350.781609 (init = 350.7816)\n",
      "############\n",
      "[705.9655172413793, 528.9655172413793, 350.78160919540227]\n",
      "############\n",
      "Method \"None\"\"\tobjective=-0.2533549933495899\n",
      "############\n"
     ]
    },
    {
     "data": {
      "image/png": "[encoded data removed]",
      "text/plain": [
       "<Figure size 432x288 with 1 Axes>"
      ]
     },
     "metadata": {
      "needs_background": "light"
     },
     "output_type": "display_data"
    },
    {
     "name": "stdout",
     "output_type": "stream",
     "text": [
      "CPU times: user 8min 19s, sys: 198 ms, total: 8min 19s\n",
      "Wall time: 8min 19s\n"
     ]
    }
   ],
   "source": [
    "%%time\n",
    "# do fit, here with leastsq model\n",
    "minner = Minimizer(cost_obj, params)\n",
    "result = minner.minimize(method='brute',Ns=30)\n",
    "minner = Minimizer(cost_obj, result.params)\n",
    "result = minner.minimize(method='lbfgsb')\n",
    "report_fit(result)\n",
    "print('############')\n",
    "method = 'None'\n",
    "x_opt = result.params['x'].value\n",
    "y_opt = result.params['y'].value\n",
    "r_opt = result.params['r'].value\n",
    "print([x_opt,y_opt,r_opt])\n",
    "f, ax = plt.subplots()\n",
    "circle = plt.Circle((x_opt, y_opt), r_opt, alpha = 0.5)\n",
    "ax.imshow(im2, cmap='gray', interpolation='nearest')\n",
    "ax.add_artist(circle)\n",
    "print('############')\n",
    "print(f'Method \"{method}\"\"\\tobjective={cost([x_opt,y_opt,r_opt])}')\n",
    "print('############')\n",
    "plt.show()"
   ]
  },
  {
   "cell_type": "code",
   "execution_count": 23,
   "metadata": {},
   "outputs": [
    {
     "name": "stdout",
     "output_type": "stream",
     "text": [
      "[[Fit Statistics]]\n",
      "    # fitting method   = brute\n",
      "    # function evals   = 27000\n",
      "    # data points      = 1\n",
      "    # variables        = 3\n",
      "    chi-square         = 0.06418875\n",
      "    reduced chi-square = 0.06418875\n",
      "    Akaike info crit   = 3.25407272\n",
      "    Bayesian info crit = -2.74592728\n",
      "[[Variables]]\n",
      "    x:  705.965517 (init = 694)\n",
      "    y:  528.965517 (init = 520)\n",
      "    r:  350.781609 (init = 154.2222)\n",
      "############\n",
      "[705.9655172413793, 528.9655172413793, 350.78160919540227]\n",
      "############\n",
      "Method \"None\"\"\tobjective=-0.2533549933495899\n",
      "############\n"
     ]
    },
    {
     "data": {
      "image/png": "[encoded data removed]",
      "text/plain": [
       "<Figure size 432x288 with 1 Axes>"
      ]
     },
     "metadata": {
      "needs_background": "light"
     },
     "output_type": "display_data"
    },
    {
     "name": "stdout",
     "output_type": "stream",
     "text": [
      "CPU times: user 8min 22s, sys: 1.13 s, total: 8min 24s\n",
      "Wall time: 8min 23s\n"
     ]
    }
   ],
   "source": [
    "%%time\n",
    "# do fit, here with leastsq model\n",
    "minner = Minimizer(cost_obj, params)\n",
    "result = minner.minimize(method='brute',Ns=30)\n",
    "report_fit(result)\n",
    "print('############')\n",
    "method = 'None'\n",
    "x_opt = result.params['x'].value\n",
    "y_opt = result.params['y'].value\n",
    "r_opt = result.params['r'].value\n",
    "print([x_opt,y_opt,r_opt])\n",
    "f, ax = plt.subplots()\n",
    "circle = plt.Circle((x_opt, y_opt), r_opt, alpha = 0.5)\n",
    "ax.imshow(im2, cmap='gray', interpolation='nearest')\n",
    "ax.add_artist(circle)\n",
    "print('############')\n",
    "print(f'Method \"{method}\"\"\\tobjective={cost([x_opt,y_opt,r_opt])}')\n",
    "print('############')\n",
    "plt.show()"
   ]
  },
  {
   "cell_type": "markdown",
   "metadata": {},
   "source": [
    "## End test 2019-03-18"
   ]
  },
  {
   "cell_type": "markdown",
   "metadata": {},
   "source": [
    "---"
   ]
  },
  {
   "cell_type": "code",
   "execution_count": null,
   "metadata": {},
   "outputs": [],
   "source": []
  },
  {
   "cell_type": "code",
   "execution_count": null,
   "metadata": {},
   "outputs": [],
   "source": [
    "%%time\n",
    "# do fit, here with leastsq model\n",
    "minner = Minimizer(cost_obj, params)\n",
    "result = minner.minimize(method='brute',Ns=20)\n",
    "minner = Minimizer(cost_obj, result.params)\n",
    "result = minner.minimize(method='lbfgsb')\n",
    "report_fit(result)\n",
    "print('############')\n",
    "method = 'None'\n",
    "x_opt = result.params['x'].value\n",
    "y_opt = result.params['y'].value\n",
    "r_opt = result.params['r'].value\n",
    "print([x_opt,y_opt,r_opt])\n",
    "f, ax = plt.subplots()\n",
    "circle = plt.Circle((x_opt, y_opt), r_opt, alpha = 0.5)\n",
    "ax.imshow(im2, cmap='gray', interpolation='nearest')\n",
    "ax.add_artist(circle)\n",
    "print('############')\n",
    "print(f'Method \"{method}\"\"\\tobjective={cost([x_opt,y_opt,r_opt])}')\n",
    "print('############')\n",
    "plt.show()"
   ]
  },
  {
   "cell_type": "code",
   "execution_count": null,
   "metadata": {},
   "outputs": [],
   "source": [
    "%%time\n",
    "# do fit, here with leastsq model\n",
    "minner = Minimizer(cost_obj, params)\n",
    "result = minner.minimize(method='brute',Ns=50)\n",
    "report_fit(result)\n",
    "print('############')\n",
    "method = 'None'\n",
    "x_opt = result.params['x'].value\n",
    "y_opt = result.params['y'].value\n",
    "r_opt = result.params['r'].value\n",
    "print([x_opt,y_opt,r_opt])\n",
    "f, ax = plt.subplots()\n",
    "circle = plt.Circle((x_opt, y_opt), r_opt, alpha = 0.5)\n",
    "ax.imshow(im2, cmap='gray', interpolation='nearest')\n",
    "ax.add_artist(circle)\n",
    "print('############')\n",
    "print(f'Method \"{method}\"\"\\tobjective={cost([x_opt,y_opt,r_opt])}')\n",
    "print('############')\n",
    "plt.show()"
   ]
  },
  {
   "cell_type": "code",
   "execution_count": null,
   "metadata": {},
   "outputs": [],
   "source": [
    "%%time\n",
    "# do fit, here with leastsq model\n",
    "\n",
    "genetic_algorithm(cost, initial_guess=[x0,y0,r0/3], lower_bound=[0,0,0], upper_bound=[maxx,maxy,maxr])\n",
    "print('############')\n",
    "method = 'None'\n",
    "x_opt = result.params['x'].value\n",
    "y_opt = result.params['y'].value\n",
    "r_opt = result.params['r'].value\n",
    "print([x_opt,y_opt,r_opt])\n",
    "f, ax = plt.subplots()\n",
    "circle = plt.Circle((x_opt, y_opt), r_opt, alpha = 0.5)\n",
    "ax.imshow(im2, cmap='gray', interpolation='nearest')\n",
    "ax.add_artist(circle)\n",
    "print('############')\n",
    "print(f'Method \"{method}\"\"\\tobjective={cost([x_opt,y_opt,r_opt])}')\n",
    "print('############')\n",
    "plt.show()"
   ]
  },
  {
   "cell_type": "code",
   "execution_count": null,
   "metadata": {},
   "outputs": [],
   "source": [
    "%%time\n",
    "# do fit, here with leastsq model\n",
    "\n",
    "genetic_algorithm(cost, initial_guess=[x0,y0,r0/3], lower_bound=[0,0,0], upper_bound=[maxx,maxy,maxr])\n",
    "print('############')\n",
    "method = 'None'\n",
    "x_opt = result.params['x'].value\n",
    "y_opt = result.params['y'].value\n",
    "r_opt = result.params['r'].value\n",
    "print([x_opt,y_opt,r_opt])\n",
    "f, ax = plt.subplots()\n",
    "circle = plt.Circle((x_opt, y_opt), r_opt, alpha = 0.5)\n",
    "ax.imshow(im2, cmap='gray', interpolation='nearest')\n",
    "ax.add_artist(circle)\n",
    "print('############')\n",
    "print(f'Method \"{method}\"\"\\tobjective={cost([x_opt,y_opt,r_opt])}')\n",
    "print('############')\n",
    "plt.show()"
   ]
  },
  {
   "cell_type": "code",
   "execution_count": null,
   "metadata": {},
   "outputs": [],
   "source": [
    "filename = 'analyses/MDA231_stopper_2_c3.tif'\n",
    "image = io.imread(filename,as_grey=True)\n",
    "io.imshow(image)"
   ]
  },
  {
   "cell_type": "code",
   "execution_count": null,
   "metadata": {},
   "outputs": [],
   "source": [
    "x_opt = result.params['x'].value\n",
    "y_opt = result.params['y'].value\n",
    "r_opt = result.params['r'].value\n",
    "print([x_opt,y_opt,r_opt])\n",
    "f, ax = plt.subplots()\n",
    "circle = plt.Circle((x_opt, y_opt), r_opt, alpha = 0.5)\n",
    "ax.imshow(image, cmap='gray', interpolation='nearest')\n",
    "ax.add_artist(circle)\n",
    "print('############')\n",
    "print(f'Method \"{method}\"\"\\tobjective={cost([x_opt,y_opt,r_opt])}')\n",
    "print('############')\n",
    "plt.show()"
   ]
  },
  {
   "cell_type": "code",
   "execution_count": null,
   "metadata": {},
   "outputs": [],
   "source": []
  },
  {
   "cell_type": "code",
   "execution_count": null,
   "metadata": {},
   "outputs": [],
   "source": []
  }
 ],
 "metadata": {
  "kernelspec": {
   "display_name": "Python 3.6",
   "language": "python",
   "name": "python3.6"
  },
  "language_info": {
   "codemirror_mode": {
    "name": "ipython",
    "version": 3
   },
   "file_extension": ".py",
   "mimetype": "text/x-python",
   "name": "python",
   "nbconvert_exporter": "python",
   "pygments_lexer": "ipython3",
   "version": "3.6.7"
  }
 },
 "nbformat": 4,
 "nbformat_minor": 2
}
