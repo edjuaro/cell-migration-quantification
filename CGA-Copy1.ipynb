{
 "cells": [
  {
   "cell_type": "code",
   "execution_count": 316,
   "metadata": {},
   "outputs": [],
   "source": [
    "from operator import itemgetter\n",
    "import numpy as np\n",
    "\n",
    "def enforce_bounds(params, LowerBound, UpperBound):\n",
    "    new_params = []\n",
    "    for i in np.arange(len(params)):\n",
    "        currene_param = params[i]\n",
    "        lb = LowerBound[i]\n",
    "        ub = UpperBound[i]\n",
    "        if currene_param<lb:\n",
    "            currene_param = lb\n",
    "        elif currene_param>ub:\n",
    "            currene_param = ub\n",
    "        new_params.append(currene_param)\n",
    "    return new_params\n",
    "\n",
    "def RandomParameters(PopulationSize,OrigialParameters,scale,LowerBound,UpperBound):\n",
    "    #PopulationSize is the number of randomized sets of parameters this function generates.\n",
    "    #OriginalParemeters will be a first educated guess and the rest of the\n",
    "    #parameters will be generated around it.\n",
    "    #scale is the relative value of the change, scale = 1 means  new parameters\n",
    "    #will be roughly the same order of magnitude; scale = 0.1 means the new\n",
    "    #parameters will be roughly 1/10th of the original ones.\n",
    "    to_return = []\n",
    "    i = 0\n",
    "    while i<PopulationSize:\n",
    "        temp = [(param+np.finfo(float).eps)*(1+scale*(2*np.random.uniform()-1)) for param in OrigialParameters]\n",
    "        temp = enforce_bounds(temp, LowerBound, UpperBound)\n",
    "        to_return.append(temp)\n",
    "        \n",
    "        i+=1\n",
    "    return to_return\n",
    "\n",
    "def GenerationFitness(FitFun,Generation):\n",
    "    Gi_fit = []\n",
    "    for i in np.arange(len(Generation)):\n",
    "        Gi_fit.append(FitFun(Generation[i]))\n",
    "        if np.isnan(Gi_fit[i]):\n",
    "            Gi_fit[i] = numpy.NINF\n",
    "    return Gi_fit\n",
    "\n",
    "def crossover(Gi_mate_1,Gi_mate_2,CrossPoint):\n",
    "    Offspring = []\n",
    "    for parent1, parent2 in zip(Gi_mate_1,Gi_mate_2):\n",
    "        parent1 = list(parent1)\n",
    "        parent2 = list(parent2)\n",
    "        off_1 = parent1[0:CrossPoint]+parent2[CrossPoint:]\n",
    "        off_2 = parent2[0:CrossPoint]+parent1[CrossPoint:]\n",
    "        Offspring.append(off_1)\n",
    "        Offspring.append(off_2)\n",
    "    return Offspring\n",
    "\n",
    "def mutate(Offsprings,MutRate,MutMagnitude,Mutation_dampering,lb,ub):\n",
    "    new_offsprings = []\n",
    "    decaying_rate = 0.9\n",
    "    \n",
    "    # for each each offspring, chek if there will be a mutation on each gene\n",
    "    for offspring in Offsprings:\n",
    "        new_off = []\n",
    "        for gene in offspring:\n",
    "            if np.random.binomial(n=1,p=decaying_rate) == 1:\n",
    "                new_gene = (gene+np.finfo(float).eps) * (1+ MutMagnitude*(2*np.random.uniform()-1)) * decaying_rate**Mutation_dampering\n",
    "            else:\n",
    "                new_gene = gene\n",
    "            new_off.append(new_gene)\n",
    "        new_offsprings.append(enforce_bounds(new_off,lb,ub))\n",
    "    return new_offsprings\n",
    "\n",
    "\n",
    "def genetic_algorithm(FitFun, initial_guess, lower_bound, uper_bound, options=None):\n",
    "    #Custom Genetic Algorithm. Developed by Edwin Juarez on 2016-03-21, ported to python on 2019-03-12\n",
    "\n",
    "    #Initialize the parameters\n",
    "    parameters = initial_guess\n",
    "    chromosome_length = len(parameters)\n",
    "    fitness = np.NINF\n",
    "\n",
    "    # fprintf('The initial guess is:');\n",
    "    # parameters\n",
    "    fitness = FitFun(initial_guess)\n",
    "\n",
    "    # Choose parameters:\n",
    "    \n",
    "    ## Population Size, N : Depends on the dimensions of the sample space\n",
    "    PopSize = 2e2\n",
    "\n",
    "    ## Number of mating individuals must be an even number\n",
    "    FittestNumber = int(min(PopSize*0.1,10**3*0.05)) # 10 percent of the population will reproduce up to 50 individuals\n",
    "\n",
    "    ## Number of \"Elite\" individuals who will remain from Gen[i] to Gen[i+1]\n",
    "    Elite = int(min(PopSize*0.1,10**3*0.05)) # 10 percent of the population up to 50 individuals\n",
    "\n",
    "    ## Number of Generations to Simulate: How many iterations to simulate? Presumably the more the better.\n",
    "    LastGen = 75\n",
    "\n",
    "    ## Mutation Rates: Probability of each gene (parameter) having a point mutation.\n",
    "    MutRate = 0.98 # there is a 98 percent chance of a mutation. There is a lot of genetic variation!\n",
    "    MutMagnitude = 2 # with a mutation the parameter will change up to 100%\n",
    "\n",
    "    # Crossover Points: Location(s) where the individuals swap genes in producing children (next generation).\n",
    "    # CrossPoint = 1; # swap (after) the first \"chromosome\" [parameter]\n",
    "    CrossPoint = int(np.floor(1+chromosome_length*np.random.uniform())) # Discrete Uniform RV ranging from 1 to chromosome_length (the number of parameters)\n",
    "    \n",
    "    # Initialize the G[0] population randomly: Create a set of N solutions randomly\n",
    "    # Gi = RandomParameters(PopSize,parameters);\n",
    "    Gi = RandomParameters(PopSize,parameters,1,lower_bound,uper_bound);\n",
    "#     vanguardia=Gi(1:4,:);\n",
    "#     prev_vanguardia = Gi(1,:);\n",
    "    # Running the main loop now\n",
    "    i=0\n",
    "    print('Runing the custom genetic algorithm')\n",
    "#     print(\"The first generation takes the longest\")\n",
    "    while i<LastGen:\n",
    "#         print(f\"Generation {i}\")\n",
    "        # Calculate fitness for population\n",
    "        Gi_fit = GenerationFitness(FitFun,Gi)\n",
    "\n",
    "        ## Select mates to create children for the G1 (N+1) population\n",
    "        ## Mate selection: Individuals ranked proportional to their fitness\n",
    "\n",
    "        ###Order them from the most fit to the least fit\n",
    "        temp = []\n",
    "        for params, fitness in zip(Gi, Gi_fit):\n",
    "            temp2 = params.copy()\n",
    "            temp2.append(fitness)\n",
    "            temp.append(temp2)\n",
    "        temp = sorted(temp, key=itemgetter(len(temp[0])-1), reverse=True)\n",
    "        ###Consider only the fittest individuals\n",
    "        Gi_fittest = temp[0:FittestNumber]\n",
    "        # Drop the fitness\n",
    "        for x in Gi_fittest:\n",
    "            del x[len(x)-1]\n",
    "\n",
    "        ###Randomly assign mates\n",
    "        Gi_mate = np.random.permutation(Gi_fittest) # permutate all individuals\n",
    "        Gi_mate_1 = Gi_mate[0:int(FittestNumber/2)] # split the population in two\n",
    "        Gi_mate_2 = Gi_mate[int(FittestNumber/2):]\n",
    "\n",
    "        ### Mate: Genes are exchanged prescribed by cross-over points\n",
    "        Offsprings = crossover(Gi_mate_1,Gi_mate_2,CrossPoint)\n",
    "\n",
    "        ### Introduce point mutations: \n",
    "        Offsprings = mutate(Offsprings,MutRate,MutMagnitude,i,lower_bound,upper_bound)\n",
    "\n",
    "        ### Clone the Elite members and mutate the clones\n",
    "        Clones = mutate(Gi_fittest[0:Elite],MutRate,MutMagnitude,1,lower_bound,upper_bound)\n",
    "\n",
    "        ### \"Elite\" fittest individuals mate with the next generation,\n",
    "        ### a mutated clone of some them also carries on.\n",
    "\n",
    "        ### on each generation a number of random individuals show up equal to the\n",
    "        ### number of Elite individuals\n",
    "        Gi = Gi_fittest[0:Elite]+Clones+Offsprings+RandomParameters(Elite,parameters,1,lower_bound,upper_bound)\n",
    "        i += 1\n",
    "    print(f'Done!, fittest individual was {Gi_fittest[0]} with fitness {FitFun(Gi_fittest[0])}')\n",
    "    return Gi_fittest[0]"
   ]
  },
  {
   "cell_type": "code",
   "execution_count": 323,
   "metadata": {},
   "outputs": [
    {
     "name": "stdout",
     "output_type": "stream",
     "text": [
      "Runing the custom genetic algorithm\n",
      "Done!, fittest individual was [5, 5, 10] with fitness 20\n"
     ]
    },
    {
     "data": {
      "text/plain": [
       "[5, 5, 10]"
      ]
     },
     "execution_count": 323,
     "metadata": {},
     "output_type": "execute_result"
    }
   ],
   "source": [
    "initial_guess = [0.1, 0.3, 3]\n",
    "lower_bound = [0,0,0]\n",
    "upper_bound = [5,5,10]\n",
    "genetic_algorithm(FitFun, initial_guess, lower_bound, upper_bound, options=None)"
   ]
  },
  {
   "cell_type": "code",
   "execution_count": null,
   "metadata": {},
   "outputs": [],
   "source": []
  },
  {
   "cell_type": "code",
   "execution_count": null,
   "metadata": {},
   "outputs": [],
   "source": [
    "a"
   ]
  },
  {
   "cell_type": "code",
   "execution_count": 284,
   "metadata": {},
   "outputs": [
    {
     "data": {
      "text/plain": [
       "[[5.6566095390045385e-16, 0.11575848545590145, 0],\n",
       " [3.2014710224235903e-16, 0.6842835324411602, 5.856081820555885],\n",
       " [6.149177072925173e-17, 0.6018987264023944, 1.3416968439009427],\n",
       " [5.546123576816754e-16, 0.8910699677867546, 2.35598868282505],\n",
       " [4.413085076492548e-16, 0.10230225832585099, 8.01100125962347]]"
      ]
     },
     "execution_count": 284,
     "metadata": {},
     "output_type": "execute_result"
    }
   ],
   "source": [
    "test_params = [0, 0.3, 3]\n",
    "pop_size = 5\n",
    "scale = 2\n",
    "lower_bound = [0,0,0]\n",
    "upper_bound = [5,5,10]\n",
    "Gi = RandomParameters(pop_size,test_params,scale,lower_bound,upper_bound)\n",
    "Gi"
   ]
  },
  {
   "cell_type": "code",
   "execution_count": 285,
   "metadata": {},
   "outputs": [
    {
     "data": {
      "text/plain": [
       "[0.11575848545590202,\n",
       " 6.540365352997045,\n",
       " 1.9435955703033372,\n",
       " 3.247058650611805,\n",
       " 8.113303517949321]"
      ]
     },
     "execution_count": 285,
     "metadata": {},
     "output_type": "execute_result"
    }
   ],
   "source": [
    "Gi_fit = GenerationFitness(FitFun,Gi)\n",
    "Gi_fit"
   ]
  },
  {
   "cell_type": "code",
   "execution_count": null,
   "metadata": {
    "scrolled": true
   },
   "outputs": [],
   "source": []
  },
  {
   "cell_type": "code",
   "execution_count": 292,
   "metadata": {},
   "outputs": [
    {
     "ename": "NameError",
     "evalue": "name 'uper_bound' is not defined",
     "output_type": "error",
     "traceback": [
      "\u001b[0;31m---------------------------------------------------------------------------\u001b[0m",
      "\u001b[0;31mNameError\u001b[0m                                 Traceback (most recent call last)",
      "\u001b[0;32m<ipython-input-292-c5b0edcfdcca>\u001b[0m in \u001b[0;36m<module>\u001b[0;34m\u001b[0m\n\u001b[0;32m----> 1\u001b[0;31m \u001b[0mgenetic_algorithm\u001b[0m\u001b[0;34m(\u001b[0m\u001b[0mFitFun\u001b[0m\u001b[0;34m,\u001b[0m \u001b[0minitial_guess\u001b[0m\u001b[0;34m,\u001b[0m \u001b[0mlower_bound\u001b[0m\u001b[0;34m,\u001b[0m \u001b[0muper_bound\u001b[0m\u001b[0;34m,\u001b[0m \u001b[0moptions\u001b[0m\u001b[0;34m=\u001b[0m\u001b[0;32mNone\u001b[0m\u001b[0;34m)\u001b[0m\u001b[0;34m\u001b[0m\u001b[0;34m\u001b[0m\u001b[0m\n\u001b[0m",
      "\u001b[0;31mNameError\u001b[0m: name 'uper_bound' is not defined"
     ]
    }
   ],
   "source": []
  },
  {
   "cell_type": "code",
   "execution_count": 286,
   "metadata": {},
   "outputs": [],
   "source": [
    "parameters = test_params\n",
    "FittestNumber = 4\n",
    "chromosome_length = len(test_params)\n",
    "CrossPoint = int(np.floor(1+chromosome_length*np.random.uniform()))\n",
    "MutRate = 0.98 \n",
    "MutMagnitude = 2\n",
    "i =1\n",
    "PopSize = 2e2\n",
    "Elite = int(min(PopSize*0.1,10**3*0.05))\n",
    "\n",
    "# Calculate fitness for population\n",
    "Gi_fit = GenerationFitness(FitFun,Gi)\n",
    "\n",
    "## Select mates to create children for the G1 (N+1) population\n",
    "## Mate selection: Individuals ranked proportional to their fitness\n",
    "\n",
    "###Order them from the most fit to the least fit\n",
    "temp = []\n",
    "for params, fitness in zip(Gi, Gi_fit):\n",
    "    temp2 = params.copy()\n",
    "    temp2.append(fitness)\n",
    "    temp.append(temp2)\n",
    "temp = sorted(temp, key=itemgetter(len(temp[0])-1), reverse=True)\n",
    "###Consider only the fittest individuals\n",
    "Gi_fittest = temp[0:FittestNumber]\n",
    "# Drop the fitness\n",
    "for x in Gi_fittest:\n",
    "    del x[len(x)-1]\n",
    "    \n",
    "###Randomly assign mates\n",
    "Gi_mate = np.random.permutation(Gi_fittest) # permutate all individuals\n",
    "Gi_mate_1 = Gi_mate[0:int(FittestNumber/2)] # split the population in two\n",
    "Gi_mate_2 = Gi_mate[int(FittestNumber/2):]\n",
    "\n",
    "### Mate: Genes are exchanged prescribed by cross-over points\n",
    "Offsprings = crossover(Gi_mate_1,Gi_mate_2,CrossPoint)\n",
    "\n",
    "### Introduce point mutations: \n",
    "Offsprings = mutate(Offsprings,MutRate,MutMagnitude,i,lower_bound,upper_bound)\n",
    "\n",
    "### Clone the Elite members and mutate the clones\n",
    "Clones = mutate(Gi_fittest[0:Elite],MutRate,MutMagnitude,1,lower_bound,upper_bound)\n",
    "\n",
    "### \"Elite\" fittest individuals mate with the next generation,\n",
    "### a mutated clone of some them also carries on.\n",
    "\n",
    "### on each generation a number of random individuals show up equal to the\n",
    "### number of Elite individuals\n",
    "Gi = Gi_fittest[0:Elite]+Clones+Offsprings+RandomParameters(Elite,parameters,1,lower_bound,upper_bound)"
   ]
  },
  {
   "cell_type": "code",
   "execution_count": 273,
   "metadata": {},
   "outputs": [
    {
     "data": {
      "text/plain": [
       "[[2.227710018905451e-16, 0.8454834390820937, 5.8139861010605385],\n",
       " [4.716768508240046e-16, 0.5321240983963764, 0],\n",
       " [5.926665112542162e-16, 0, 5.5886497367886765],\n",
       " [6.597767805618842e-16, 0.7999940895815129, 0],\n",
       " [1.3134052282032642e-17, 0.08431409594511605, 7.17373998212857]]"
      ]
     },
     "execution_count": 273,
     "metadata": {},
     "output_type": "execute_result"
    }
   ],
   "source": [
    "Gi"
   ]
  },
  {
   "cell_type": "code",
   "execution_count": 287,
   "metadata": {},
   "outputs": [
    {
     "data": {
      "text/plain": [
       "[[4.413085076492548e-16, 0.10230225832585099, 8.01100125962347],\n",
       " [3.2014710224235903e-16, 0.6842835324411602, 5.856081820555885],\n",
       " [5.546123576816754e-16, 0.8910699677867546, 2.35598868282505],\n",
       " [6.149177072925173e-17, 0.6018987264023944, 1.3416968439009427],\n",
       " [1.3445783187339322e-15, 0.12352088326685184, 0],\n",
       " [1.1879578117307199e-15, 0, 6.924237177854333],\n",
       " [7.233277492739289e-16, 1.9186245058660185, 5.063559700671208],\n",
       " [2.447938972723945e-16, 0.6463354532545422, 1.3416968439009427],\n",
       " [3.595653693898185e-16, 1.2509087829215695, 5.318431339839355],\n",
       " [4.174291025320603e-16, 0.6191135710423966, 0.46317511230415814],\n",
       " [1.2423851906332729e-16, 0, 8.01100125962347],\n",
       " [1.4431909927447866e-15, 0.23329562979652946, 0],\n",
       " [3.012327934213512e-16, 0.44258837247216665, 4.061007941427609],\n",
       " [3.352722641922906e-16, 0.3839124935542084, 3.752199705462107],\n",
       " [5.640980976827901e-17, 0.2693172092051552, 5.123236558959637],\n",
       " [4.3770525372372175e-16, 0.056109852646829654, 4.134995096009303],\n",
       " [2.8669708797071496e-16, 0.41547029850626227, 3.986100687486899],\n",
       " [2.666116282950621e-16, 0.3372251489659616, 1.6048154893110655],\n",
       " [2.1295959705313444e-16, 0.39932736111120826, 0.672671066977955],\n",
       " [2.361945304774274e-16, 0.3234318629578064, 0.013300409979010608],\n",
       " [2.7952698137713576e-17, 0.39316446121075554, 3.5340200614458634],\n",
       " [2.2501818954839497e-16, 0.13723778354080352, 5.664395102055923],\n",
       " [3.2975652324534324e-16, 0.4989026033381965, 4.38651260476053],\n",
       " [3.962518931318895e-16, 0.584056939920055, 4.366248112155437],\n",
       " [2.1996264525072903e-16, 0.4998685113396989, 0.183119347152362],\n",
       " [4.1567307389845277e-16, 0.17872272504549555, 0.9514126946640991],\n",
       " [8.90372097291714e-17, 0.2810664961602202, 0.4123528638410505],\n",
       " [2.887697409894117e-16, 0.26553283212890744, 3.880377970985217],\n",
       " [1.3474179507206537e-16, 0.08081799886726995, 1.202774487030467],\n",
       " [3.396872273612065e-16, 0.46571586246924973, 1.7744376254520564],\n",
       " [2.1302378045709275e-16, 0.44409169965325535, 3.4505197941849],\n",
       " [9.737824023786758e-17, 0.2514734570054845, 0.9770976348124178]]"
      ]
     },
     "execution_count": 287,
     "metadata": {},
     "output_type": "execute_result"
    }
   ],
   "source": [
    "Gi"
   ]
  },
  {
   "cell_type": "code",
   "execution_count": null,
   "metadata": {},
   "outputs": [],
   "source": []
  },
  {
   "cell_type": "code",
   "execution_count": 235,
   "metadata": {},
   "outputs": [
    {
     "data": {
      "text/plain": [
       "[[1.3134052282032642e-17, 0.0, 5.5886497367886765],\n",
       " [5.926665112542162e-16, 0.08431409594511605, 7.17373998212857],\n",
       " [2.227710018905451e-16, 0.7999940895815129, 0.0],\n",
       " [6.597767805618842e-16, 0.8454834390820937, 5.8139861010605385]]"
      ]
     },
     "execution_count": 235,
     "metadata": {},
     "output_type": "execute_result"
    }
   ],
   "source": [
    "Offsprings"
   ]
  },
  {
   "cell_type": "code",
   "execution_count": 223,
   "metadata": {
    "scrolled": true
   },
   "outputs": [
    {
     "data": {
      "text/plain": [
       "1"
      ]
     },
     "execution_count": 223,
     "metadata": {},
     "output_type": "execute_result"
    }
   ],
   "source": [
    "i"
   ]
  },
  {
   "cell_type": "code",
   "execution_count": 252,
   "metadata": {},
   "outputs": [],
   "source": []
  },
  {
   "cell_type": "code",
   "execution_count": 253,
   "metadata": {},
   "outputs": [
    {
     "data": {
      "text/plain": [
       "[[1.3134052282032642e-17, 0.0, 5.5886497367886765],\n",
       " [5.926665112542162e-16, 0.08431409594511605, 7.17373998212857],\n",
       " [2.227710018905451e-16, 0.7999940895815129, 0.0],\n",
       " [6.597767805618842e-16, 0.8454834390820937, 5.8139861010605385]]"
      ]
     },
     "execution_count": 253,
     "metadata": {},
     "output_type": "execute_result"
    }
   ],
   "source": [
    "Offsprings"
   ]
  },
  {
   "cell_type": "code",
   "execution_count": 263,
   "metadata": {
    "scrolled": true
   },
   "outputs": [
    {
     "data": {
      "text/plain": [
       "[[1.2836452308289863e-17, 3.2726620640536846e-16, 0.48941575872711746],\n",
       " [8.264683071378796e-16, 0.08431409594511605, 9.218541667092806],\n",
       " [7.109100466192448e-16, 0, 3.3327759633231754e-16],\n",
       " [1.882103396815066e-15, 0, 10]]"
      ]
     },
     "execution_count": 263,
     "metadata": {},
     "output_type": "execute_result"
    }
   ],
   "source": [
    "mutate(Offsprings,MutRate,MutMagnitude,i,lower_bound,upper_bound)"
   ]
  },
  {
   "cell_type": "code",
   "execution_count": 45,
   "metadata": {},
   "outputs": [],
   "source": []
  },
  {
   "cell_type": "code",
   "execution_count": 159,
   "metadata": {},
   "outputs": [
    {
     "data": {
      "text/plain": [
       "[[4.3772617530906615e-16, 0, 1.3602157687904208],\n",
       " [0, 0.10383512756926427, 0],\n",
       " [5.420224068074272e-16, 0.021384059025442485, 3.6987346755535095],\n",
       " [6.462461031681022e-16, 0.43897650009117783, 0],\n",
       " [1.4565195441431915e-16, 0.8789684775564991, 0]]"
      ]
     },
     "execution_count": 159,
     "metadata": {},
     "output_type": "execute_result"
    }
   ],
   "source": []
  },
  {
   "cell_type": "code",
   "execution_count": 160,
   "metadata": {},
   "outputs": [
    {
     "data": {
      "text/plain": [
       "[1.3602157687904213,\n",
       " 0.10383512756926427,\n",
       " 3.7201187345789526,\n",
       " 0.4389765000911785,\n",
       " 0.8789684775564992]"
      ]
     },
     "execution_count": 160,
     "metadata": {},
     "output_type": "execute_result"
    }
   ],
   "source": []
  },
  {
   "cell_type": "code",
   "execution_count": null,
   "metadata": {},
   "outputs": [],
   "source": []
  },
  {
   "cell_type": "code",
   "execution_count": null,
   "metadata": {},
   "outputs": [],
   "source": []
  },
  {
   "cell_type": "code",
   "execution_count": null,
   "metadata": {},
   "outputs": [],
   "source": [
    "function Gi_fit = GenerationFitness(FitFun,Generation)\n",
    "%length of Gi - Generation i;\n",
    "n = length(Generation);\n",
    "Gi_fit = zeros(n,1);\n",
    "\n",
    "for i = 1:n;\n",
    "    %Compute fitness of specimen i\n",
    "    Gi_fit(i) = FitFun(Generation(i,:));\n",
    "    if isnan(Gi_fit(i))\n",
    "        Gi_fit(i) = -inf;\n",
    "    end\n",
    "end\n",
    "end"
   ]
  },
  {
   "cell_type": "code",
   "execution_count": 62,
   "metadata": {},
   "outputs": [],
   "source": []
  },
  {
   "cell_type": "code",
   "execution_count": null,
   "metadata": {},
   "outputs": [],
   "source": []
  },
  {
   "cell_type": "code",
   "execution_count": 55,
   "metadata": {},
   "outputs": [],
   "source": [
    "def FitFun(params):\n",
    "    return sum(params)"
   ]
  },
  {
   "cell_type": "code",
   "execution_count": null,
   "metadata": {},
   "outputs": [],
   "source": [
    "\n",
    "    \n",
    "#     Gi_fittest = temp(1:FittestNumber,1:chromosome_length); #Consider only the fittest individuals\n",
    "#     %%% { Randomly assign mates\n",
    "#     Gi_mate = Gi_fittest(randperm(FittestNumber),:);\n",
    "#     Gi_mate_1 = Gi_mate(1:FittestNumber/2,:);\n",
    "#     Gi_mate_2 = Gi_mate(FittestNumber/2+1:end,:);"
   ]
  },
  {
   "cell_type": "code",
   "execution_count": 88,
   "metadata": {},
   "outputs": [
    {
     "name": "stdout",
     "output_type": "stream",
     "text": [
      "[[4.123066406888859e-16, 0.6217738835318609, 0.5888707931019983, 1.2106446766338597], [0, 0.4346074914415937, 7.0163685331558785, 7.450976024597472], [5.972084686675715e-16, 0, 8.095620233505377, 8.095620233505377], [0, 0.6694943001886696, 5.156810093897397, 5.826304394086066], [6.125350648193035e-16, 0.013484012306242842, 1.3976627157790973, 1.4111467280853407]]\n"
     ]
    }
   ],
   "source": []
  },
  {
   "cell_type": "code",
   "execution_count": 101,
   "metadata": {},
   "outputs": [
    {
     "data": {
      "text/plain": [
       "[[5.972084686675715e-16, 0, 8.095620233505377, 8.095620233505377],\n",
       " [0, 0.4346074914415937, 7.0163685331558785, 7.450976024597472],\n",
       " [0, 0.6694943001886696, 5.156810093897397, 5.826304394086066],\n",
       " [6.125350648193035e-16,\n",
       "  0.013484012306242842,\n",
       "  1.3976627157790973,\n",
       "  1.4111467280853407],\n",
       " [4.123066406888859e-16,\n",
       "  0.6217738835318609,\n",
       "  0.5888707931019983,\n",
       "  1.2106446766338597]]"
      ]
     },
     "execution_count": 101,
     "metadata": {},
     "output_type": "execute_result"
    }
   ],
   "source": [
    "sorted(temp, key=itemgetter(len(temp[0])-1), reverse=True)"
   ]
  },
  {
   "cell_type": "code",
   "execution_count": null,
   "metadata": {},
   "outputs": [],
   "source": [
    "# def rank_fitted_gen(gen):\n",
    "#     # We know this is a list of list with the last parameter as the fitness\n",
    "#     return "
   ]
  }
 ],
 "metadata": {
  "kernelspec": {
   "display_name": "Python 3.7",
   "language": "python",
   "name": "python3.7"
  },
  "language_info": {
   "codemirror_mode": {
    "name": "ipython",
    "version": 3
   },
   "file_extension": ".py",
   "mimetype": "text/x-python",
   "name": "python",
   "nbconvert_exporter": "python",
   "pygments_lexer": "ipython3",
   "version": "3.7.1"
  }
 },
 "nbformat": 4,
 "nbformat_minor": 2
}
