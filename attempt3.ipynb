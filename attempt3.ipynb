{
 "cells": [
  {
   "cell_type": "code",
   "execution_count": 44,
   "metadata": {
    "genepattern": {
     "name": "Login",
     "server": "https://cloud.genepattern.org/gp",
     "type": "auth"
    }
   },
   "outputs": [
    {
     "data": {
      "application/vnd.jupyter.widget-view+json": {
       "model_id": "b6f19d8efc834d9ca60744d6e690ac50",
       "version_major": 2,
       "version_minor": 0
      },
      "text/plain": [
       "GPAuthWidget()"
      ]
     },
     "metadata": {},
     "output_type": "display_data"
    }
   ],
   "source": [
    "# Requires GenePattern Notebook: pip install genepattern-notebook\n",
    "import gp\n",
    "import genepattern\n",
    "\n",
    "# Username and password removed for security reasons.\n",
    "genepattern.display(genepattern.session.register(\"https://cloud.genepattern.org/gp\", \"\", \"\"))"
   ]
  },
  {
   "cell_type": "markdown",
   "metadata": {},
   "source": [
    "##  Create Cells Mask"
   ]
  },
  {
   "cell_type": "code",
   "execution_count": 6,
   "metadata": {},
   "outputs": [
    {
     "name": "stdout",
     "output_type": "stream",
     "text": [
      "Note that a value of ~1 means that pixel belongs to the mask and it is rendered as white.\n",
      "A value of 0 means it deos not belong the mask and it is rendered as black.\n"
     ]
    },
    {
     "data": {
      "image/png": "[encoded data removed]",
      "text/plain": [
       "<Figure size 432x288 with 1 Axes>"
      ]
     },
     "metadata": {
      "needs_background": "light"
     },
     "output_type": "display_data"
    }
   ],
   "source": [
    "# Mostly from here: https://www.learnopencv.com/filling-holes-in-an-image-using-opencv-python-c/\n",
    "%matplotlib inline\n",
    "import cv2\n",
    "import numpy as np\n",
    "from skimage import draw\n",
    "from skimage import io\n",
    "\n",
    " \n",
    "# Read image\n",
    "im_in = cv2.imread(\"analyses/MDA231_stopper_1_c3.tif\", cv2.IMREAD_GRAYSCALE);\n",
    " \n",
    "# Threshold.\n",
    "# Set values equal to or above 20 to 0.\n",
    "# Set values below 20 to 255.\n",
    " \n",
    "th, im_th = cv2.threshold(im_in, 20, 255, cv2.THRESH_BINARY_INV);\n",
    " \n",
    "# Copy the thresholded image.\n",
    "im_floodfill = im_th.copy()\n",
    " \n",
    "# Mask used to flood filling.\n",
    "# Notice the size needs to be 2 pixels than the image.\n",
    "h, w = im_th.shape[:2]\n",
    "mask = np.zeros((h+2, w+2), np.uint8)\n",
    " \n",
    "# Floodfill from point (0, 0)\n",
    "cv2.floodFill(im_floodfill, mask, (0,0), 255);\n",
    " \n",
    "# Invert floodfilled image\n",
    "im_floodfill_inv = cv2.bitwise_not(im_floodfill)\n",
    " \n",
    "# Combine the two images to get the foreground.\n",
    "im_out = im_th | im_floodfill_inv\n",
    "io.imsave(fname='temp_output.png', arr=im_out)\n",
    "\n",
    "# im_out_inv = cv2.bitwise_not(im_out)\n",
    "\n",
    "\n",
    "# dilate the mask:\n",
    "k_size = 2\n",
    "k_half = k_size/2\n",
    "kernel = np.ones((k_size,k_size),np.uint8)\n",
    "coords = draw.circle(k_half, k_half, k_half, shape=im_th.shape)\n",
    "kernel[coords] = 1 \n",
    "erosion = cv2.erode(im_out,kernel,iterations = 1)\n",
    "dilation = cv2.dilate(cv2.bitwise_not(erosion),kernel,iterations = 1)\n",
    "# cells_mask = cv2.bitwise_not(dilation)\n",
    "cells_mask = dilation/255\n",
    "\n",
    "\n",
    "io.imshow(cells_mask)\n",
    "print(\"Note that a value of ~1 means that pixel belongs to the mask and it is rendered as white.\")\n",
    "print(\"A value of 0 means it deos not belong the mask and it is rendered as black.\")\n",
    "# io.imsave(fname='mask.png', arr=dilation)"
   ]
  },
  {
   "cell_type": "markdown",
   "metadata": {},
   "source": [
    "## cost functions"
   ]
  },
  {
   "cell_type": "markdown",
   "metadata": {
    "heading_collapsed": true
   },
   "source": [
    "### Attempt 0"
   ]
  },
  {
   "cell_type": "code",
   "execution_count": 13,
   "metadata": {
    "hidden": true
   },
   "outputs": [],
   "source": [
    "import matplotlib.pyplot as plt\n",
    "filename = 'analyses/MDA231_stopper_1_c3.tif'\n"
   ]
  },
  {
   "cell_type": "code",
   "execution_count": 14,
   "metadata": {
    "hidden": true
   },
   "outputs": [
    {
     "name": "stderr",
     "output_type": "stream",
     "text": [
      "/opt/conda/envs/python3.6/lib/python3.6/site-packages/skimage/io/_io.py:49: UserWarning: `as_grey` has been deprecated in favor of `as_gray`\n",
      "  warn('`as_grey` has been deprecated in favor of `as_gray`')\n"
     ]
    }
   ],
   "source": [
    "image = io.imread(filename,as_grey=True)\n",
    "im2 = image>0.2\n",
    "im2 = im2.astype(int)\n",
    "\n",
    "x_opt = 691.25591905\n",
    "y_opt = 529.27572426"
   ]
  },
  {
   "cell_type": "code",
   "execution_count": 19,
   "metadata": {
    "hidden": true
   },
   "outputs": [
    {
     "data": {
      "text/plain": [
       "<matplotlib.collections.PathCollection at 0x7f7214ae4fd0>"
      ]
     },
     "execution_count": 19,
     "metadata": {},
     "output_type": "execute_result"
    },
    {
     "data": {
      "image/png": "[encoded data removed]",
      "text/plain": [
       "<Figure size 432x288 with 1 Axes>"
      ]
     },
     "metadata": {
      "needs_background": "light"
     },
     "output_type": "display_data"
    }
   ],
   "source": [
    "def cost(params):\n",
    "    image = im2\n",
    "    x0= params[0]\n",
    "    y0 = params[1]\n",
    "    r = params[2]\n",
    "    coords = draw.circle(y0, x0, r, shape=image.shape)\n",
    "    template = np.zeros_like(image) #set all values to be zero\n",
    "    template[coords] = 1 \n",
    "    penalty = 1\n",
    "#     score = np.sum(template) - penalty*(len(template)- np.sum(template))\n",
    "#     print('%g\\t\\t%g' % (2*np.pi*r*r, np.sum(template == image)**2))\n",
    "    score = 2*np.pi*r*r - penalty*(np.sum(template == image)**2 - 2*np.pi*r*r)  \n",
    "    return -score\n",
    "\n",
    "\n",
    "import matplotlib.pyplot as plt\n",
    "x = [i for i in np.arange(0,1000,55)]\n",
    "y = [cost([x_opt,y_opt,i]) for i in x]\n",
    "plt.scatter(x,y)"
   ]
  },
  {
   "cell_type": "markdown",
   "metadata": {},
   "source": [
    "### optimize"
   ]
  },
  {
   "cell_type": "code",
   "execution_count": 28,
   "metadata": {},
   "outputs": [],
   "source": [
    "from skimage import io, color, measure, draw, img_as_bool\n",
    "import numpy as np\n",
    "from scipy import optimize\n",
    "import matplotlib.pyplot as plt"
   ]
  },
  {
   "cell_type": "code",
   "execution_count": 26,
   "metadata": {},
   "outputs": [],
   "source": [
    "maxy, maxx = image.shape\n",
    "minx, miny = (0,0)\n",
    "maxr = max(maxx,maxy)/2"
   ]
  },
  {
   "cell_type": "code",
   "execution_count": 20,
   "metadata": {},
   "outputs": [],
   "source": [
    "x0 = im2.shape[1]/2\n",
    "y0 = im2.shape[0]/2\n",
    "r0 = im2.shape[1]/4"
   ]
  },
  {
   "cell_type": "code",
   "execution_count": 47,
   "metadata": {
    "nbtools": {
     "description": "",
     "name": "cost",
     "param_values": {
      "params": ""
     },
     "show_code": false,
     "type": "uibuilder"
    }
   },
   "outputs": [
    {
     "data": {
      "application/vnd.jupyter.widget-view+json": {
       "model_id": "87c558ce926b40318436940dc73dc3cf",
       "version_major": 2,
       "version_minor": 0
      },
      "text/plain": [
       "UIBuilder(function_import='cost', name='cost', params=[{'name': 'params', 'label': 'params', 'optional': False…"
      ]
     },
     "metadata": {},
     "output_type": "display_data"
    }
   ],
   "source": [
    "@genepattern.build_ui\n",
    "def cost(params):\n",
    "    image = im2\n",
    "    x0= params[0]\n",
    "    y0 = params[1]\n",
    "    r = params[2]\n",
    "    coords = draw.circle(y0, x0, r, shape=image.shape)\n",
    "    template = np.zeros_like(image) #set all values to be zero\n",
    "    template[coords] = 1 \n",
    "    \n",
    "    # values outside of the box should be penalized too\n",
    "    if (x0+r >maxx) or (y0+r>maxy) or (x0-r <0) or (y0-r <0):\n",
    "        return +1e20\n",
    "    \n",
    "    penalty = 100000\n",
    "    score = 2*np.pi*r*r - penalty*(np.sum(template == image)**2 - 2*np.pi*r*r)  \n",
    "    return -score"
   ]
  },
  {
   "cell_type": "code",
   "execution_count": 38,
   "metadata": {},
   "outputs": [
    {
     "data": {
      "text/plain": [
       "      fun: 1.6555641415451186e+16\n",
       " hess_inv: <3x3 LbfgsInvHessProduct with dtype=float64>\n",
       "      jac: array([ 0.e+00,  0.e+00, -4.e+08])\n",
       "  message: b'ABNORMAL_TERMINATION_IN_LNSRCH'\n",
       "     nfev: 160\n",
       "      nit: 1\n",
       "   status: 2\n",
       "  success: False\n",
       "        x: array([694.00000171, 520.00000128, 347.00000256])"
      ]
     },
     "execution_count": 38,
     "metadata": {},
     "output_type": "execute_result"
    }
   ],
   "source": [
    "bnds = ((0, maxx), (0, maxy), (0,2*maxr))\n",
    "res = optimize.minimize(cost, x0=[x0, y0,x0/2], bounds=bnds)\n",
    "res"
   ]
  },
  {
   "cell_type": "code",
   "execution_count": 39,
   "metadata": {},
   "outputs": [
    {
     "name": "stdout",
     "output_type": "stream",
     "text": [
      "[694.0000017084234, 520.0000012800867, 347.0000025626351]\n"
     ]
    },
    {
     "data": {
      "image/png": "[encoded data removed]",
      "text/plain": [
       "<Figure size 432x288 with 1 Axes>"
      ]
     },
     "metadata": {
      "needs_background": "light"
     },
     "output_type": "display_data"
    }
   ],
   "source": [
    "x_opt = res.x[0]\n",
    "y_opt = res.x[1]\n",
    "r_opt = res.x[2]\n",
    "print([x_opt,y_opt,r_opt])\n",
    "f, ax = plt.subplots()\n",
    "circle = plt.Circle((x_opt, y_opt), r_opt, alpha = 0.5)\n",
    "ax.imshow(im2, cmap='gray', interpolation='nearest')\n",
    "ax.add_artist(circle)\n",
    "plt.show()"
   ]
  },
  {
   "cell_type": "code",
   "execution_count": null,
   "metadata": {},
   "outputs": [],
   "source": []
  }
 ],
 "metadata": {
  "kernelspec": {
   "display_name": "Python 3.6",
   "language": "python",
   "name": "python3.6"
  },
  "language_info": {
   "codemirror_mode": {
    "name": "ipython",
    "version": 3
   },
   "file_extension": ".py",
   "mimetype": "text/x-python",
   "name": "python",
   "nbconvert_exporter": "python",
   "pygments_lexer": "ipython3",
   "version": "3.6.7"
  }
 },
 "nbformat": 4,
 "nbformat_minor": 2
}
